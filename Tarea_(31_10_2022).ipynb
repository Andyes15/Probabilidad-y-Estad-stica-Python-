{
  "nbformat": 4,
  "nbformat_minor": 0,
  "metadata": {
    "colab": {
      "provenance": []
    },
    "kernelspec": {
      "name": "python3",
      "display_name": "Python 3"
    },
    "language_info": {
      "name": "python"
    }
  },
  "cells": [
    {
      "cell_type": "markdown",
      "source": [
        "#Tarea : Probabilidad y Estadistica de Datos\n",
        "##Andrea Espindola Macias (ID: 0243394)"
      ],
      "metadata": {
        "id": "Pa0BKWvBa4Dj"
      }
    },
    {
      "cell_type": "code",
      "source": [
        "from scipy.stats import bernoulli\n",
        "import numpy as np\n",
        "import sympy\n",
        "from sympy.abc import x, z, n"
      ],
      "metadata": {
        "id": "zY5tiYrUMJyN"
      },
      "execution_count": 1,
      "outputs": []
    },
    {
      "cell_type": "code",
      "source": [
        "fp = bernoulli (0.4) \n",
        "\n",
        "fp.rvs (100)\n"
      ],
      "metadata": {
        "colab": {
          "base_uri": "https://localhost:8080/"
        },
        "id": "cerVAQ5QMaYv",
        "outputId": "a2d1978f-d7d5-4b17-c889-808c3e9e9e26"
      },
      "execution_count": 2,
      "outputs": [
        {
          "output_type": "execute_result",
          "data": {
            "text/plain": [
              "array([1, 0, 0, 0, 0, 0, 0, 0, 0, 1, 0, 1, 0, 0, 0, 0, 0, 0, 1, 0, 0, 1,\n",
              "       1, 0, 1, 0, 0, 0, 1, 0, 0, 0, 0, 0, 1, 1, 1, 0, 1, 0, 1, 1, 1, 0,\n",
              "       1, 0, 0, 0, 1, 1, 1, 0, 1, 1, 0, 0, 1, 1, 1, 0, 1, 1, 0, 1, 1, 1,\n",
              "       0, 0, 0, 1, 0, 1, 1, 0, 1, 0, 0, 1, 0, 1, 0, 1, 0, 1, 0, 0, 0, 0,\n",
              "       1, 0, 0, 0, 0, 0, 0, 0, 0, 1, 0, 0])"
            ]
          },
          "metadata": {},
          "execution_count": 2
        }
      ]
    },
    {
      "cell_type": "code",
      "source": [
        "sum(fp.rvs(100))/100"
      ],
      "metadata": {
        "colab": {
          "base_uri": "https://localhost:8080/"
        },
        "id": "yl4DKYjDNG-o",
        "outputId": "a1547937-39c3-4387-fdcd-94dccfa2dc50"
      },
      "execution_count": 3,
      "outputs": [
        {
          "output_type": "execute_result",
          "data": {
            "text/plain": [
              "0.35"
            ]
          },
          "metadata": {},
          "execution_count": 3
        }
      ]
    },
    {
      "cell_type": "code",
      "source": [
        "xs = fp.rvs(5000)\n",
        "sum(xs)/(5000)\n"
      ],
      "metadata": {
        "colab": {
          "base_uri": "https://localhost:8080/"
        },
        "id": "8HVEStYjNYKf",
        "outputId": "1f7068e4-9c10-4011-e60f-d5044798d763"
      },
      "execution_count": 4,
      "outputs": [
        {
          "output_type": "execute_result",
          "data": {
            "text/plain": [
              "0.4164"
            ]
          },
          "metadata": {},
          "execution_count": 4
        }
      ]
    },
    {
      "cell_type": "code",
      "source": [
        "xs"
      ],
      "metadata": {
        "colab": {
          "base_uri": "https://localhost:8080/"
        },
        "id": "sZdzOiFzQRsl",
        "outputId": "9c25cb80-9d71-499f-8807-9ac5c815afeb"
      },
      "execution_count": 5,
      "outputs": [
        {
          "output_type": "execute_result",
          "data": {
            "text/plain": [
              "array([0, 0, 0, ..., 0, 1, 1])"
            ]
          },
          "metadata": {},
          "execution_count": 5
        }
      ]
    },
    {
      "cell_type": "code",
      "source": [
        "p = sympy.symbols(\"p\", positive = True)"
      ],
      "metadata": {
        "id": "SnzLp9AERAJK"
      },
      "execution_count": 6,
      "outputs": []
    },
    {
      "cell_type": "code",
      "source": [
        "f = p**x*(1-p)**(1-x)\n",
        "f"
      ],
      "metadata": {
        "colab": {
          "base_uri": "https://localhost:8080/",
          "height": 39
        },
        "id": "Skcdc1B_Wcom",
        "outputId": "b826945b-3bbb-4e84-edd8-1f344282c820"
      },
      "execution_count": 7,
      "outputs": [
        {
          "output_type": "execute_result",
          "data": {
            "text/plain": [
              "p**x*(1 - p)**(1 - x)"
            ],
            "text/latex": "$\\displaystyle p^{x} \\left(1 - p\\right)^{1 - x}$"
          },
          "metadata": {},
          "execution_count": 7
        }
      ]
    },
    {
      "cell_type": "code",
      "source": [
        "J = np.prod([f.subs(x, i) for i in xs])\n",
        "\n",
        "logJ = sympy.expand_log(sympy.log(J))\n",
        "\n",
        "print (J)\n",
        "print (logJ)"
      ],
      "metadata": {
        "colab": {
          "base_uri": "https://localhost:8080/"
        },
        "id": "2lqmFKcuXlUh",
        "outputId": "f694a9dc-814d-454a-c87a-c574d70a6d69"
      },
      "execution_count": 8,
      "outputs": [
        {
          "output_type": "stream",
          "name": "stdout",
          "text": [
            "p**2082*(1 - p)**2918\n",
            "2082*log(p) + log((1 - p)**2918)\n"
          ]
        }
      ]
    },
    {
      "cell_type": "code",
      "source": [
        "phat = sympy.solve(sympy.diff(logJ,p),p)[0]\n",
        "phat"
      ],
      "metadata": {
        "colab": {
          "base_uri": "https://localhost:8080/",
          "height": 52
        },
        "id": "Envwp3L5ZPPG",
        "outputId": "422fc9fb-9902-42d5-ef80-55cf958b6cb4"
      },
      "execution_count": 9,
      "outputs": [
        {
          "output_type": "execute_result",
          "data": {
            "text/plain": [
              "1041/2500"
            ],
            "text/latex": "$\\displaystyle \\frac{1041}{2500}$"
          },
          "metadata": {},
          "execution_count": 9
        }
      ]
    }
  ]
}