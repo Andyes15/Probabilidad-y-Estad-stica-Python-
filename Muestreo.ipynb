{
  "nbformat": 4,
  "nbformat_minor": 0,
  "metadata": {
    "colab": {
      "provenance": [],
      "collapsed_sections": []
    },
    "kernelspec": {
      "name": "python3",
      "display_name": "Python 3"
    },
    "language_info": {
      "name": "python"
    }
  },
  "cells": [
    {
      "cell_type": "markdown",
      "source": [
        "##Tarea 2\n",
        "####Andrea Espindola Macias (ID: 0243394)\n"
      ],
      "metadata": {
        "id": "L7oOxaXnGapq"
      }
    },
    {
      "cell_type": "markdown",
      "source": [
        "1. Lanzas una moneda justa (es decir, la probabilidad de obtener cara es $0.5$ ) tres veces. Suponga que todas las secuencias de resultados de lanzamiento de moneda, de longitud 3, son igualmente probables. Determine la probabilidad de cada uno de los siguientes eventos:\n",
        "\n",
        "a. $\\\\{HHH\\\\}$ $3$ caras.\n",
        "\n",
        "b. $\\\\{HTH\\\\}$ cara, águila, cara. \n",
        "\n",
        "c. Cualquier sucesión con dos caras y un águila (en cualquier orden). \n",
        "\n",
        "\n",
        "d. Cualquier sucesión en donde el número de caras sea mayor o igual al número de águilas."
      ],
      "metadata": {
        "id": "a7fE133iGaw6"
      }
    },
    {
      "cell_type": "code",
      "source": [
        "from itertools import product"
      ],
      "metadata": {
        "id": "Iq2HDDruOMM6"
      },
      "execution_count": null,
      "outputs": []
    },
    {
      "cell_type": "code",
      "source": [
        "M = {\"A\", \"S\"}"
      ],
      "metadata": {
        "id": "UkuFOMz2OMww"
      },
      "execution_count": null,
      "outputs": []
    },
    {
      "cell_type": "code",
      "source": [
        "Omega = set(product(M, repeat = 3))\n",
        "Omega"
      ],
      "metadata": {
        "colab": {
          "base_uri": "https://localhost:8080/"
        },
        "id": "RKlNPsWgOO3q",
        "outputId": "0f9fd370-c1fc-4200-8e61-898717c48004"
      },
      "execution_count": null,
      "outputs": [
        {
          "output_type": "execute_result",
          "data": {
            "text/plain": [
              "{('A', 'A', 'A'),\n",
              " ('A', 'A', 'S'),\n",
              " ('A', 'S', 'A'),\n",
              " ('A', 'S', 'S'),\n",
              " ('S', 'A', 'A'),\n",
              " ('S', 'A', 'S'),\n",
              " ('S', 'S', 'A'),\n",
              " ('S', 'S', 'S')}"
            ]
          },
          "metadata": {},
          "execution_count": 3
        }
      ]
    },
    {
      "cell_type": "code",
      "source": [
        "len(Omega)"
      ],
      "metadata": {
        "colab": {
          "base_uri": "https://localhost:8080/"
        },
        "id": "nnIc4KdIOdkE",
        "outputId": "4ff014c8-44c2-4027-c2eb-81b010405a67"
      },
      "execution_count": null,
      "outputs": [
        {
          "output_type": "execute_result",
          "data": {
            "text/plain": [
              "8"
            ]
          },
          "metadata": {},
          "execution_count": 4
        }
      ]
    },
    {
      "cell_type": "markdown",
      "source": [
        "a."
      ],
      "metadata": {
        "id": "UOG6N1zbSYsY"
      }
    },
    {
      "cell_type": "code",
      "source": [
        "E = { omega for omega in Omega if omega [0]== \"S\"}\n",
        "E"
      ],
      "metadata": {
        "colab": {
          "base_uri": "https://localhost:8080/"
        },
        "id": "2nDysY8dOeq9",
        "outputId": "58da75c6-7aab-4fef-a265-f467b48c49ec"
      },
      "execution_count": null,
      "outputs": [
        {
          "output_type": "execute_result",
          "data": {
            "text/plain": [
              "{('S', 'A', 'A'), ('S', 'A', 'S'), ('S', 'S', 'A'), ('S', 'S', 'S')}"
            ]
          },
          "metadata": {},
          "execution_count": 29
        }
      ]
    },
    {
      "cell_type": "code",
      "source": [
        "F = {omega for omega in Omega if omega [1]== \"S\"}\n",
        "F"
      ],
      "metadata": {
        "colab": {
          "base_uri": "https://localhost:8080/"
        },
        "id": "6UResWxbTDlr",
        "outputId": "6f25adb5-972f-438f-96af-c5c6861ac531"
      },
      "execution_count": null,
      "outputs": [
        {
          "output_type": "execute_result",
          "data": {
            "text/plain": [
              "{('A', 'S', 'A'), ('A', 'S', 'S'), ('S', 'S', 'A'), ('S', 'S', 'S')}"
            ]
          },
          "metadata": {},
          "execution_count": 30
        }
      ]
    },
    {
      "cell_type": "code",
      "source": [
        "G = {omega for omega in Omega if omega [2]== \"S\"}\n",
        "G"
      ],
      "metadata": {
        "colab": {
          "base_uri": "https://localhost:8080/"
        },
        "id": "QTNgorf1OpP-",
        "outputId": "d043dd62-e40a-4c2c-9ff1-f17e140aa240"
      },
      "execution_count": null,
      "outputs": [
        {
          "output_type": "execute_result",
          "data": {
            "text/plain": [
              "{('A', 'A', 'S'), ('A', 'S', 'S'), ('S', 'A', 'S'), ('S', 'S', 'S')}"
            ]
          },
          "metadata": {},
          "execution_count": 31
        }
      ]
    },
    {
      "cell_type": "code",
      "source": [
        "U = E.intersection(F.intersection(G))\n",
        "U"
      ],
      "metadata": {
        "colab": {
          "base_uri": "https://localhost:8080/"
        },
        "id": "wMBRVLQDTNAg",
        "outputId": "ad560d5f-6e2e-475b-857e-b9b41fdb85a6"
      },
      "execution_count": null,
      "outputs": [
        {
          "output_type": "execute_result",
          "data": {
            "text/plain": [
              "{('S', 'S', 'S')}"
            ]
          },
          "metadata": {},
          "execution_count": 32
        }
      ]
    },
    {
      "cell_type": "code",
      "source": [
        "len(U)/len(Omega)"
      ],
      "metadata": {
        "colab": {
          "base_uri": "https://localhost:8080/"
        },
        "id": "36jP2mMDTPSV",
        "outputId": "b8719bfb-814d-488a-95e6-7d7a3f03949b"
      },
      "execution_count": null,
      "outputs": [
        {
          "output_type": "execute_result",
          "data": {
            "text/plain": [
              "0.125"
            ]
          },
          "metadata": {},
          "execution_count": 33
        }
      ]
    },
    {
      "cell_type": "markdown",
      "source": [
        "b."
      ],
      "metadata": {
        "id": "vDF-gxDSSXSA"
      }
    },
    {
      "cell_type": "code",
      "source": [
        "R = { omega for omega in Omega if omega [0]== \"S\"}\n",
        "R\n"
      ],
      "metadata": {
        "colab": {
          "base_uri": "https://localhost:8080/"
        },
        "id": "Fs7OVP0iQlQJ",
        "outputId": "0baf0468-adef-4798-e642-b458f12a1880"
      },
      "execution_count": null,
      "outputs": [
        {
          "output_type": "execute_result",
          "data": {
            "text/plain": [
              "{('S', 'A', 'A'), ('S', 'A', 'S'), ('S', 'S', 'A'), ('S', 'S', 'S')}"
            ]
          },
          "metadata": {},
          "execution_count": 37
        }
      ]
    },
    {
      "cell_type": "code",
      "source": [
        "Q = { omega for omega in Omega if omega [1]== \"A\"}\n",
        "Q"
      ],
      "metadata": {
        "colab": {
          "base_uri": "https://localhost:8080/"
        },
        "id": "fZ9aSZKFWK8t",
        "outputId": "7b864cdc-2dff-44b9-a684-dd19cbd3c7c1"
      },
      "execution_count": null,
      "outputs": [
        {
          "output_type": "execute_result",
          "data": {
            "text/plain": [
              "{('A', 'A', 'A'), ('A', 'A', 'S'), ('S', 'A', 'A'), ('S', 'A', 'S')}"
            ]
          },
          "metadata": {},
          "execution_count": 38
        }
      ]
    },
    {
      "cell_type": "code",
      "source": [
        "T = { omega for omega in Omega if omega [2]== \"S\"}\n",
        "T\n"
      ],
      "metadata": {
        "colab": {
          "base_uri": "https://localhost:8080/"
        },
        "id": "M5LtL00rWSGR",
        "outputId": "b0a4738f-ed0e-48e8-b836-261d673cca4b"
      },
      "execution_count": null,
      "outputs": [
        {
          "output_type": "execute_result",
          "data": {
            "text/plain": [
              "{('A', 'A', 'S'), ('A', 'S', 'S'), ('S', 'A', 'S'), ('S', 'S', 'S')}"
            ]
          },
          "metadata": {},
          "execution_count": 39
        }
      ]
    },
    {
      "cell_type": "code",
      "source": [
        "W = R.intersection(Q.intersection(T))\n",
        "W"
      ],
      "metadata": {
        "colab": {
          "base_uri": "https://localhost:8080/"
        },
        "id": "0XnkxyTsWZOV",
        "outputId": "29d8fb28-1e8c-4b39-d062-833805133587"
      },
      "execution_count": null,
      "outputs": [
        {
          "output_type": "execute_result",
          "data": {
            "text/plain": [
              "{('S', 'A', 'S')}"
            ]
          },
          "metadata": {},
          "execution_count": 40
        }
      ]
    },
    {
      "cell_type": "code",
      "source": [
        "len(W)/len(Omega)"
      ],
      "metadata": {
        "colab": {
          "base_uri": "https://localhost:8080/"
        },
        "id": "cMaOwfpDWnPa",
        "outputId": "74bdc10a-a7a2-4540-b6d7-604b010d6ee4"
      },
      "execution_count": null,
      "outputs": [
        {
          "output_type": "execute_result",
          "data": {
            "text/plain": [
              "0.125"
            ]
          },
          "metadata": {},
          "execution_count": 41
        }
      ]
    },
    {
      "cell_type": "markdown",
      "source": [
        "c."
      ],
      "metadata": {
        "id": "DvxCuxOUSWYg"
      }
    },
    {
      "cell_type": "code",
      "source": [
        "X = {omega for omega in Omega if omega.count(\"A\")== 1}\n",
        "X"
      ],
      "metadata": {
        "colab": {
          "base_uri": "https://localhost:8080/"
        },
        "id": "3BBK3cf4Osll",
        "outputId": "583ba066-0cf7-4fad-832d-28b4a24eb29b"
      },
      "execution_count": null,
      "outputs": [
        {
          "output_type": "execute_result",
          "data": {
            "text/plain": [
              "{('A', 'S', 'S'), ('S', 'A', 'S'), ('S', 'S', 'A')}"
            ]
          },
          "metadata": {},
          "execution_count": 8
        }
      ]
    },
    {
      "cell_type": "code",
      "source": [
        "Px = len(X)/len(Omega)\n",
        "Px"
      ],
      "metadata": {
        "colab": {
          "base_uri": "https://localhost:8080/"
        },
        "id": "mFVn_35GPdqu",
        "outputId": "b7e0072f-ab06-4f46-def8-c523e9226432"
      },
      "execution_count": null,
      "outputs": [
        {
          "output_type": "execute_result",
          "data": {
            "text/plain": [
              "0.375"
            ]
          },
          "metadata": {},
          "execution_count": 11
        }
      ]
    },
    {
      "cell_type": "markdown",
      "source": [
        "d. "
      ],
      "metadata": {
        "id": "sjWzju4LSUyW"
      }
    },
    {
      "cell_type": "code",
      "source": [
        "Y = {omega for omega in Omega if omega.count(\"S\")>= omega.count(\"A\")}\n",
        "Y"
      ],
      "metadata": {
        "colab": {
          "base_uri": "https://localhost:8080/"
        },
        "id": "ioPIgvrfP_lL",
        "outputId": "fa317d2f-d645-41e9-8f95-83bdbd0b352f"
      },
      "execution_count": null,
      "outputs": [
        {
          "output_type": "execute_result",
          "data": {
            "text/plain": [
              "{('A', 'S', 'S'), ('S', 'A', 'S'), ('S', 'S', 'A'), ('S', 'S', 'S')}"
            ]
          },
          "metadata": {},
          "execution_count": 20
        }
      ]
    },
    {
      "cell_type": "code",
      "source": [
        "Py = len(Y)/len(Omega)\n",
        "Py"
      ],
      "metadata": {
        "colab": {
          "base_uri": "https://localhost:8080/"
        },
        "id": "SIslxxZoQeRy",
        "outputId": "e13ad0e0-fbdf-4658-f516-453c81fe77bd"
      },
      "execution_count": null,
      "outputs": [
        {
          "output_type": "execute_result",
          "data": {
            "text/plain": [
              "0.5"
            ]
          },
          "metadata": {},
          "execution_count": 21
        }
      ]
    },
    {
      "cell_type": "markdown",
      "source": [
        "2. En el ejercicio anterior, calcula las probabilidades dado que sabes que cayó una cara en el primer lanzamiento.\n",
        "\n",
        "a. $\\\\{HHH\\\\}$ $3$ caras.\n",
        "\n",
        "b. $\\\\{HTH\\\\}$ cara, águila, cara. \n",
        "\n",
        "c. Cualquier sucesión con dos caras y un águila (en cualquier orden). \n",
        "\n",
        "\n",
        "d. Cualquier sucesión en donde el número de caras sea mayor o igual al número de águilas."
      ],
      "metadata": {
        "id": "STq5aFKJHIF6"
      }
    },
    {
      "cell_type": "markdown",
      "source": [
        "a."
      ],
      "metadata": {
        "id": "2RMOOQfUTtQn"
      }
    },
    {
      "cell_type": "code",
      "source": [
        "PU = len(U.intersection(E))/ len(E)\n",
        "PU"
      ],
      "metadata": {
        "colab": {
          "base_uri": "https://localhost:8080/"
        },
        "id": "OFb6hFPTTVP9",
        "outputId": "4e399d7e-88e4-46da-be3b-b52659d07945"
      },
      "execution_count": null,
      "outputs": [
        {
          "output_type": "execute_result",
          "data": {
            "text/plain": [
              "0.25"
            ]
          },
          "metadata": {},
          "execution_count": 34
        }
      ]
    },
    {
      "cell_type": "markdown",
      "source": [
        "b."
      ],
      "metadata": {
        "id": "MrEC2ESITw8c"
      }
    },
    {
      "cell_type": "code",
      "source": [
        "PW = len(W.intersection(E))/ len(E)\n",
        "PW"
      ],
      "metadata": {
        "colab": {
          "base_uri": "https://localhost:8080/"
        },
        "id": "tVVsbjqfTh4h",
        "outputId": "1053da49-1bd1-4c42-a906-b7fcb31ba405"
      },
      "execution_count": null,
      "outputs": [
        {
          "output_type": "execute_result",
          "data": {
            "text/plain": [
              "0.25"
            ]
          },
          "metadata": {},
          "execution_count": 43
        }
      ]
    },
    {
      "cell_type": "markdown",
      "source": [
        "c."
      ],
      "metadata": {
        "id": "jMHOol-iUrZH"
      }
    },
    {
      "cell_type": "code",
      "source": [
        "Px= len(X.intersection(E))/ len(E)\n",
        "Px"
      ],
      "metadata": {
        "colab": {
          "base_uri": "https://localhost:8080/"
        },
        "id": "4N7Y8gbxUsch",
        "outputId": "1a47072a-3670-4236-8575-cff9f9cc1794"
      },
      "execution_count": null,
      "outputs": [
        {
          "output_type": "execute_result",
          "data": {
            "text/plain": [
              "0.5"
            ]
          },
          "metadata": {},
          "execution_count": 35
        }
      ]
    },
    {
      "cell_type": "markdown",
      "source": [
        "d."
      ],
      "metadata": {
        "id": "DdcQegM5VLcw"
      }
    },
    {
      "cell_type": "code",
      "source": [
        "Py = len(Y.intersection(E))/ len(E)\n",
        "Py"
      ],
      "metadata": {
        "colab": {
          "base_uri": "https://localhost:8080/"
        },
        "id": "rBCXPi4hVMRJ",
        "outputId": "89a8b5ea-7e2c-40d4-a8d4-68d692e24105"
      },
      "execution_count": null,
      "outputs": [
        {
          "output_type": "execute_result",
          "data": {
            "text/plain": [
              "0.75"
            ]
          },
          "metadata": {},
          "execution_count": 36
        }
      ]
    },
    {
      "cell_type": "markdown",
      "source": [
        "3. Alicia y Samuel eligen al azar un número real entre cero y uno. Suponemos que el par de números se elige sobre el cuadrado unitario, de modo que la probabilidad de un evento es igual a su área. Definimos los siguientes eventos:\n",
        "\n",
        "A: la magnitud de la diferencia de los dos números es mayor que $1/3$.\n",
        "\n",
        "B: Al menos uno de los números es mayor que $1/4$.\n",
        "\n",
        "C: LA suma de los dos números es $1$.\n",
        "\n",
        "D: El número de Alicia es mayor que $1/4$.\n",
        "\n",
        "\n",
        "Calcula la probabilidad de cada evento."
      ],
      "metadata": {
        "id": "ENUzTHLuHNc1"
      }
    },
    {
      "cell_type": "code",
      "source": [
        "import numpy as np"
      ],
      "metadata": {
        "id": "6bqmjIAxdOz5"
      },
      "execution_count": null,
      "outputs": []
    },
    {
      "cell_type": "code",
      "source": [
        "import random"
      ],
      "metadata": {
        "id": "i0MW1nG3dP3f"
      },
      "execution_count": null,
      "outputs": []
    },
    {
      "cell_type": "code",
      "source": [
        "A = []\n",
        "for i in range (1):\n",
        "  print(random.random())"
      ],
      "metadata": {
        "colab": {
          "base_uri": "https://localhost:8080/"
        },
        "id": "OkI8yr5egg73",
        "outputId": "d73bcf37-4a92-4ce1-f9d4-c36529c9719e"
      },
      "execution_count": null,
      "outputs": [
        {
          "output_type": "stream",
          "name": "stdout",
          "text": [
            "0.2387178040064697\n"
          ]
        }
      ]
    },
    {
      "cell_type": "code",
      "source": [
        "S = []\n",
        "for i in range (1):\n",
        "  print(random.random())"
      ],
      "metadata": {
        "colab": {
          "base_uri": "https://localhost:8080/"
        },
        "id": "02d1j89Sgut-",
        "outputId": "af660259-adb3-4363-d394-cc7ad2a737b5"
      },
      "execution_count": null,
      "outputs": [
        {
          "output_type": "stream",
          "name": "stdout",
          "text": [
            "0.46853011529927613\n"
          ]
        }
      ]
    },
    {
      "cell_type": "code",
      "source": [
        "a = np.random.random()\n",
        "s = np.random.random()\n",
        "abs(a-s)> 1/3"
      ],
      "metadata": {
        "colab": {
          "base_uri": "https://localhost:8080/"
        },
        "id": "pACadPShtOWW",
        "outputId": "2c7ebbbc-fcea-4e05-8e1b-e68054978ce0"
      },
      "execution_count": null,
      "outputs": [
        {
          "output_type": "execute_result",
          "data": {
            "text/plain": [
              "True"
            ]
          },
          "metadata": {},
          "execution_count": 9
        }
      ]
    },
    {
      "cell_type": "code",
      "source": [
        "[0,1]"
      ],
      "metadata": {
        "colab": {
          "base_uri": "https://localhost:8080/"
        },
        "id": "kCeJXT_pt8t4",
        "outputId": "210e9cfb-e644-4121-d97b-cc855f52fd56"
      },
      "execution_count": null,
      "outputs": [
        {
          "output_type": "execute_result",
          "data": {
            "text/plain": [
              "[0, 1]"
            ]
          },
          "metadata": {},
          "execution_count": 11
        }
      ]
    },
    {
      "cell_type": "code",
      "source": [
        "!pip install python-intervals==1.4.0\n"
      ],
      "metadata": {
        "colab": {
          "base_uri": "https://localhost:8080/"
        },
        "id": "7MeyRzhywuW8",
        "outputId": "ae5b2690-5dd9-46db-8281-7ac78e21a2b4"
      },
      "execution_count": null,
      "outputs": [
        {
          "output_type": "stream",
          "name": "stdout",
          "text": [
            "Looking in indexes: https://pypi.org/simple, https://us-python.pkg.dev/colab-wheels/public/simple/\n",
            "Collecting python-intervals==1.4.0\n",
            "  Downloading python_intervals-1.4.0-py2.py3-none-any.whl (10 kB)\n",
            "Installing collected packages: python-intervals\n",
            "Successfully installed python-intervals-1.4.0\n"
          ]
        }
      ]
    },
    {
      "cell_type": "code",
      "source": [
        "import intervals as I"
      ],
      "metadata": {
        "id": "5vzC1PXNwfHL"
      },
      "execution_count": null,
      "outputs": []
    },
    {
      "cell_type": "code",
      "source": [
        "from itertools import product\n",
        "U = set(product())"
      ],
      "metadata": {
        "id": "S35fR2R4tZrW"
      },
      "execution_count": null,
      "outputs": []
    },
    {
      "cell_type": "code",
      "source": [
        "#otro modo\n",
        "k = 0\n",
        "l = 11000\n",
        "for x in range (l): \n",
        "  a = np.random.random()\n",
        "  s = np.random.random()\n",
        "  if abs(a-s)> 1/3: \n",
        "    k += 1 \n",
        "\n",
        "k/l"
      ],
      "metadata": {
        "colab": {
          "base_uri": "https://localhost:8080/"
        },
        "id": "VQMd4cp-uWnC",
        "outputId": "75c2e331-a817-4380-c4cb-81040c46976b"
      },
      "execution_count": null,
      "outputs": [
        {
          "output_type": "execute_result",
          "data": {
            "text/plain": [
              "0.44181818181818183"
            ]
          },
          "metadata": {},
          "execution_count": 15
        }
      ]
    },
    {
      "cell_type": "markdown",
      "source": [
        "4. Simula una sucesión de $5$ volados simultáneos (1 muestreo) con monedas honestas que consista de 100 observaciones. Registra tus datos en un DataFrame de Pandas."
      ],
      "metadata": {
        "id": "KkfCcrtSH15O"
      }
    },
    {
      "cell_type": "code",
      "source": [
        "import pandas as pd\n"
      ],
      "metadata": {
        "id": "_M1e9bQ3h0bK"
      },
      "execution_count": null,
      "outputs": []
    },
    {
      "cell_type": "code",
      "source": [
        "Omega5 = set(product([\"A\", \"S\"], repeat = 5))\n",
        "Omega5"
      ],
      "metadata": {
        "colab": {
          "base_uri": "https://localhost:8080/"
        },
        "id": "RGHY8r3kinra",
        "outputId": "d8f167ab-1f42-46ad-b85a-8e7e8d4f05db"
      },
      "execution_count": null,
      "outputs": [
        {
          "output_type": "execute_result",
          "data": {
            "text/plain": [
              "{('A', 'A', 'A', 'A', 'A'),\n",
              " ('A', 'A', 'A', 'A', 'S'),\n",
              " ('A', 'A', 'A', 'S', 'A'),\n",
              " ('A', 'A', 'A', 'S', 'S'),\n",
              " ('A', 'A', 'S', 'A', 'A'),\n",
              " ('A', 'A', 'S', 'A', 'S'),\n",
              " ('A', 'A', 'S', 'S', 'A'),\n",
              " ('A', 'A', 'S', 'S', 'S'),\n",
              " ('A', 'S', 'A', 'A', 'A'),\n",
              " ('A', 'S', 'A', 'A', 'S'),\n",
              " ('A', 'S', 'A', 'S', 'A'),\n",
              " ('A', 'S', 'A', 'S', 'S'),\n",
              " ('A', 'S', 'S', 'A', 'A'),\n",
              " ('A', 'S', 'S', 'A', 'S'),\n",
              " ('A', 'S', 'S', 'S', 'A'),\n",
              " ('A', 'S', 'S', 'S', 'S'),\n",
              " ('S', 'A', 'A', 'A', 'A'),\n",
              " ('S', 'A', 'A', 'A', 'S'),\n",
              " ('S', 'A', 'A', 'S', 'A'),\n",
              " ('S', 'A', 'A', 'S', 'S'),\n",
              " ('S', 'A', 'S', 'A', 'A'),\n",
              " ('S', 'A', 'S', 'A', 'S'),\n",
              " ('S', 'A', 'S', 'S', 'A'),\n",
              " ('S', 'A', 'S', 'S', 'S'),\n",
              " ('S', 'S', 'A', 'A', 'A'),\n",
              " ('S', 'S', 'A', 'A', 'S'),\n",
              " ('S', 'S', 'A', 'S', 'A'),\n",
              " ('S', 'S', 'A', 'S', 'S'),\n",
              " ('S', 'S', 'S', 'A', 'A'),\n",
              " ('S', 'S', 'S', 'A', 'S'),\n",
              " ('S', 'S', 'S', 'S', 'A'),\n",
              " ('S', 'S', 'S', 'S', 'S')}"
            ]
          },
          "metadata": {},
          "execution_count": 55
        }
      ]
    },
    {
      "cell_type": "code",
      "source": [
        "df500 = pd.DataFrame()\n",
        "for i in range (1,101):\n",
        "  v_muestra = np.random.binomial(1,0.5,5)\n",
        "  columna = f\"muestra {i}\"\n",
        "  df500[columna] = v_muestra\n",
        "df500\n"
      ],
      "metadata": {
        "colab": {
          "base_uri": "https://localhost:8080/",
          "height": 314
        },
        "id": "NZdG14_ph2e1",
        "outputId": "70396e91-a52b-47e3-cfc7-245c962fd817"
      },
      "execution_count": null,
      "outputs": [
        {
          "output_type": "execute_result",
          "data": {
            "text/plain": [
              "   muestra 1  muestra 2  muestra 3  muestra 4  muestra 5  muestra 6  \\\n",
              "0          0          1          0          0          1          0   \n",
              "1          1          0          0          0          1          1   \n",
              "2          1          0          0          1          1          1   \n",
              "3          0          1          1          1          1          1   \n",
              "4          1          0          1          0          1          0   \n",
              "\n",
              "   muestra 7  muestra 8  muestra 9  muestra 10  ...  muestra 91  muestra 92  \\\n",
              "0          0          1          0           0  ...           0           0   \n",
              "1          1          1          1           0  ...           0           0   \n",
              "2          1          1          1           1  ...           0           0   \n",
              "3          1          0          0           0  ...           1           1   \n",
              "4          0          0          1           0  ...           0           1   \n",
              "\n",
              "   muestra 93  muestra 94  muestra 95  muestra 96  muestra 97  muestra 98  \\\n",
              "0           1           1           1           1           0           0   \n",
              "1           1           1           1           1           0           1   \n",
              "2           0           1           1           0           0           0   \n",
              "3           0           1           1           1           0           0   \n",
              "4           1           0           1           1           1           0   \n",
              "\n",
              "   muestra 99  muestra 100  \n",
              "0           0            1  \n",
              "1           1            0  \n",
              "2           0            1  \n",
              "3           0            1  \n",
              "4           0            1  \n",
              "\n",
              "[5 rows x 100 columns]"
            ],
            "text/html": [
              "\n",
              "  <div id=\"df-dcc99d73-5c6e-4b39-91c6-38da0564fcb0\">\n",
              "    <div class=\"colab-df-container\">\n",
              "      <div>\n",
              "<style scoped>\n",
              "    .dataframe tbody tr th:only-of-type {\n",
              "        vertical-align: middle;\n",
              "    }\n",
              "\n",
              "    .dataframe tbody tr th {\n",
              "        vertical-align: top;\n",
              "    }\n",
              "\n",
              "    .dataframe thead th {\n",
              "        text-align: right;\n",
              "    }\n",
              "</style>\n",
              "<table border=\"1\" class=\"dataframe\">\n",
              "  <thead>\n",
              "    <tr style=\"text-align: right;\">\n",
              "      <th></th>\n",
              "      <th>muestra 1</th>\n",
              "      <th>muestra 2</th>\n",
              "      <th>muestra 3</th>\n",
              "      <th>muestra 4</th>\n",
              "      <th>muestra 5</th>\n",
              "      <th>muestra 6</th>\n",
              "      <th>muestra 7</th>\n",
              "      <th>muestra 8</th>\n",
              "      <th>muestra 9</th>\n",
              "      <th>muestra 10</th>\n",
              "      <th>...</th>\n",
              "      <th>muestra 91</th>\n",
              "      <th>muestra 92</th>\n",
              "      <th>muestra 93</th>\n",
              "      <th>muestra 94</th>\n",
              "      <th>muestra 95</th>\n",
              "      <th>muestra 96</th>\n",
              "      <th>muestra 97</th>\n",
              "      <th>muestra 98</th>\n",
              "      <th>muestra 99</th>\n",
              "      <th>muestra 100</th>\n",
              "    </tr>\n",
              "  </thead>\n",
              "  <tbody>\n",
              "    <tr>\n",
              "      <th>0</th>\n",
              "      <td>0</td>\n",
              "      <td>1</td>\n",
              "      <td>0</td>\n",
              "      <td>0</td>\n",
              "      <td>1</td>\n",
              "      <td>0</td>\n",
              "      <td>0</td>\n",
              "      <td>1</td>\n",
              "      <td>0</td>\n",
              "      <td>0</td>\n",
              "      <td>...</td>\n",
              "      <td>0</td>\n",
              "      <td>0</td>\n",
              "      <td>1</td>\n",
              "      <td>1</td>\n",
              "      <td>1</td>\n",
              "      <td>1</td>\n",
              "      <td>0</td>\n",
              "      <td>0</td>\n",
              "      <td>0</td>\n",
              "      <td>1</td>\n",
              "    </tr>\n",
              "    <tr>\n",
              "      <th>1</th>\n",
              "      <td>1</td>\n",
              "      <td>0</td>\n",
              "      <td>0</td>\n",
              "      <td>0</td>\n",
              "      <td>1</td>\n",
              "      <td>1</td>\n",
              "      <td>1</td>\n",
              "      <td>1</td>\n",
              "      <td>1</td>\n",
              "      <td>0</td>\n",
              "      <td>...</td>\n",
              "      <td>0</td>\n",
              "      <td>0</td>\n",
              "      <td>1</td>\n",
              "      <td>1</td>\n",
              "      <td>1</td>\n",
              "      <td>1</td>\n",
              "      <td>0</td>\n",
              "      <td>1</td>\n",
              "      <td>1</td>\n",
              "      <td>0</td>\n",
              "    </tr>\n",
              "    <tr>\n",
              "      <th>2</th>\n",
              "      <td>1</td>\n",
              "      <td>0</td>\n",
              "      <td>0</td>\n",
              "      <td>1</td>\n",
              "      <td>1</td>\n",
              "      <td>1</td>\n",
              "      <td>1</td>\n",
              "      <td>1</td>\n",
              "      <td>1</td>\n",
              "      <td>1</td>\n",
              "      <td>...</td>\n",
              "      <td>0</td>\n",
              "      <td>0</td>\n",
              "      <td>0</td>\n",
              "      <td>1</td>\n",
              "      <td>1</td>\n",
              "      <td>0</td>\n",
              "      <td>0</td>\n",
              "      <td>0</td>\n",
              "      <td>0</td>\n",
              "      <td>1</td>\n",
              "    </tr>\n",
              "    <tr>\n",
              "      <th>3</th>\n",
              "      <td>0</td>\n",
              "      <td>1</td>\n",
              "      <td>1</td>\n",
              "      <td>1</td>\n",
              "      <td>1</td>\n",
              "      <td>1</td>\n",
              "      <td>1</td>\n",
              "      <td>0</td>\n",
              "      <td>0</td>\n",
              "      <td>0</td>\n",
              "      <td>...</td>\n",
              "      <td>1</td>\n",
              "      <td>1</td>\n",
              "      <td>0</td>\n",
              "      <td>1</td>\n",
              "      <td>1</td>\n",
              "      <td>1</td>\n",
              "      <td>0</td>\n",
              "      <td>0</td>\n",
              "      <td>0</td>\n",
              "      <td>1</td>\n",
              "    </tr>\n",
              "    <tr>\n",
              "      <th>4</th>\n",
              "      <td>1</td>\n",
              "      <td>0</td>\n",
              "      <td>1</td>\n",
              "      <td>0</td>\n",
              "      <td>1</td>\n",
              "      <td>0</td>\n",
              "      <td>0</td>\n",
              "      <td>0</td>\n",
              "      <td>1</td>\n",
              "      <td>0</td>\n",
              "      <td>...</td>\n",
              "      <td>0</td>\n",
              "      <td>1</td>\n",
              "      <td>1</td>\n",
              "      <td>0</td>\n",
              "      <td>1</td>\n",
              "      <td>1</td>\n",
              "      <td>1</td>\n",
              "      <td>0</td>\n",
              "      <td>0</td>\n",
              "      <td>1</td>\n",
              "    </tr>\n",
              "  </tbody>\n",
              "</table>\n",
              "<p>5 rows × 100 columns</p>\n",
              "</div>\n",
              "      <button class=\"colab-df-convert\" onclick=\"convertToInteractive('df-dcc99d73-5c6e-4b39-91c6-38da0564fcb0')\"\n",
              "              title=\"Convert this dataframe to an interactive table.\"\n",
              "              style=\"display:none;\">\n",
              "        \n",
              "  <svg xmlns=\"http://www.w3.org/2000/svg\" height=\"24px\"viewBox=\"0 0 24 24\"\n",
              "       width=\"24px\">\n",
              "    <path d=\"M0 0h24v24H0V0z\" fill=\"none\"/>\n",
              "    <path d=\"M18.56 5.44l.94 2.06.94-2.06 2.06-.94-2.06-.94-.94-2.06-.94 2.06-2.06.94zm-11 1L8.5 8.5l.94-2.06 2.06-.94-2.06-.94L8.5 2.5l-.94 2.06-2.06.94zm10 10l.94 2.06.94-2.06 2.06-.94-2.06-.94-.94-2.06-.94 2.06-2.06.94z\"/><path d=\"M17.41 7.96l-1.37-1.37c-.4-.4-.92-.59-1.43-.59-.52 0-1.04.2-1.43.59L10.3 9.45l-7.72 7.72c-.78.78-.78 2.05 0 2.83L4 21.41c.39.39.9.59 1.41.59.51 0 1.02-.2 1.41-.59l7.78-7.78 2.81-2.81c.8-.78.8-2.07 0-2.86zM5.41 20L4 18.59l7.72-7.72 1.47 1.35L5.41 20z\"/>\n",
              "  </svg>\n",
              "      </button>\n",
              "      \n",
              "  <style>\n",
              "    .colab-df-container {\n",
              "      display:flex;\n",
              "      flex-wrap:wrap;\n",
              "      gap: 12px;\n",
              "    }\n",
              "\n",
              "    .colab-df-convert {\n",
              "      background-color: #E8F0FE;\n",
              "      border: none;\n",
              "      border-radius: 50%;\n",
              "      cursor: pointer;\n",
              "      display: none;\n",
              "      fill: #1967D2;\n",
              "      height: 32px;\n",
              "      padding: 0 0 0 0;\n",
              "      width: 32px;\n",
              "    }\n",
              "\n",
              "    .colab-df-convert:hover {\n",
              "      background-color: #E2EBFA;\n",
              "      box-shadow: 0px 1px 2px rgba(60, 64, 67, 0.3), 0px 1px 3px 1px rgba(60, 64, 67, 0.15);\n",
              "      fill: #174EA6;\n",
              "    }\n",
              "\n",
              "    [theme=dark] .colab-df-convert {\n",
              "      background-color: #3B4455;\n",
              "      fill: #D2E3FC;\n",
              "    }\n",
              "\n",
              "    [theme=dark] .colab-df-convert:hover {\n",
              "      background-color: #434B5C;\n",
              "      box-shadow: 0px 1px 3px 1px rgba(0, 0, 0, 0.15);\n",
              "      filter: drop-shadow(0px 1px 2px rgba(0, 0, 0, 0.3));\n",
              "      fill: #FFFFFF;\n",
              "    }\n",
              "  </style>\n",
              "\n",
              "      <script>\n",
              "        const buttonEl =\n",
              "          document.querySelector('#df-dcc99d73-5c6e-4b39-91c6-38da0564fcb0 button.colab-df-convert');\n",
              "        buttonEl.style.display =\n",
              "          google.colab.kernel.accessAllowed ? 'block' : 'none';\n",
              "\n",
              "        async function convertToInteractive(key) {\n",
              "          const element = document.querySelector('#df-dcc99d73-5c6e-4b39-91c6-38da0564fcb0');\n",
              "          const dataTable =\n",
              "            await google.colab.kernel.invokeFunction('convertToInteractive',\n",
              "                                                     [key], {});\n",
              "          if (!dataTable) return;\n",
              "\n",
              "          const docLinkHtml = 'Like what you see? Visit the ' +\n",
              "            '<a target=\"_blank\" href=https://colab.research.google.com/notebooks/data_table.ipynb>data table notebook</a>'\n",
              "            + ' to learn more about interactive tables.';\n",
              "          element.innerHTML = '';\n",
              "          dataTable['output_type'] = 'display_data';\n",
              "          await google.colab.output.renderOutput(dataTable, element);\n",
              "          const docLink = document.createElement('div');\n",
              "          docLink.innerHTML = docLinkHtml;\n",
              "          element.appendChild(docLink);\n",
              "        }\n",
              "      </script>\n",
              "    </div>\n",
              "  </div>\n",
              "  "
            ]
          },
          "metadata": {},
          "execution_count": 54
        }
      ]
    }
  ]
}