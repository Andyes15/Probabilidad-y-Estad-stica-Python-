{
  "nbformat": 4,
  "nbformat_minor": 0,
  "metadata": {
    "colab": {
      "provenance": [],
      "collapsed_sections": []
    },
    "kernelspec": {
      "name": "python3",
      "display_name": "Python 3"
    },
    "language_info": {
      "name": "python"
    }
  },
  "cells": [
    {
      "cell_type": "markdown",
      "source": [
        "##Tarea 2\n",
        "###Andrea Espindola Macias\n",
        "####Ejercicios\n"
      ],
      "metadata": {
        "id": "EgYPRxjsfLnh"
      }
    },
    {
      "cell_type": "markdown",
      "source": [
        "1. Lanzas una moneda justa tres veces: \n",
        "Cuál es la probabilidad de que observes exactamente una    cara?\n",
        "Dado que has observado al menos una cara, Cuál es la probabilidad de que observes al menos dos caras?"
      ],
      "metadata": {
        "id": "7eoc6yUNf2Kv"
      }
    },
    {
      "cell_type": "code",
      "source": [
        "from itertools import product"
      ],
      "metadata": {
        "id": "oGw41oXniaOW"
      },
      "execution_count": null,
      "outputs": []
    },
    {
      "cell_type": "code",
      "source": [
        "M = {\"A\", \"S\"}"
      ],
      "metadata": {
        "id": "0xLiQCDeitBw"
      },
      "execution_count": null,
      "outputs": []
    },
    {
      "cell_type": "code",
      "source": [
        "Omega = set(product(M, repeat = 3))\n",
        "Omega"
      ],
      "metadata": {
        "colab": {
          "base_uri": "https://localhost:8080/"
        },
        "id": "rtRn8SV7ilD1",
        "outputId": "f987727d-71b2-4128-dcf3-d48665fa266f"
      },
      "execution_count": null,
      "outputs": [
        {
          "output_type": "execute_result",
          "data": {
            "text/plain": [
              "{('A', 'A', 'A'),\n",
              " ('A', 'A', 'S'),\n",
              " ('A', 'S', 'A'),\n",
              " ('A', 'S', 'S'),\n",
              " ('S', 'A', 'A'),\n",
              " ('S', 'A', 'S'),\n",
              " ('S', 'S', 'A'),\n",
              " ('S', 'S', 'S')}"
            ]
          },
          "metadata": {},
          "execution_count": 5
        }
      ]
    },
    {
      "cell_type": "code",
      "source": [
        "Omega = set(product(M, repeat = 3))\n",
        "Omega"
      ],
      "metadata": {
        "colab": {
          "base_uri": "https://localhost:8080/"
        },
        "id": "6jyB3XPArBxY",
        "outputId": "e33eab12-81f4-4254-feb8-c0054dd06bd0"
      },
      "execution_count": null,
      "outputs": [
        {
          "output_type": "execute_result",
          "data": {
            "text/plain": [
              "8"
            ]
          },
          "metadata": {},
          "execution_count": 37
        }
      ]
    },
    {
      "cell_type": "code",
      "source": [
        "U = {omega for omega in Omega if omega.count(\"A\")== 1}\n",
        "U"
      ],
      "metadata": {
        "colab": {
          "base_uri": "https://localhost:8080/"
        },
        "id": "BN3rluI2oits",
        "outputId": "94403d73-edeb-48cc-ab67-fc46c2ce148d"
      },
      "execution_count": null,
      "outputs": [
        {
          "output_type": "execute_result",
          "data": {
            "text/plain": [
              "{('A', 'S', 'S'), ('S', 'A', 'S'), ('S', 'S', 'A')}"
            ]
          },
          "metadata": {},
          "execution_count": 27
        }
      ]
    },
    {
      "cell_type": "code",
      "source": [
        "Pu = len(U)/len(Omega)\n",
        "Pu"
      ],
      "metadata": {
        "colab": {
          "base_uri": "https://localhost:8080/"
        },
        "id": "FnaGO9kwpC-N",
        "outputId": "e6468492-1aa8-4fa6-989d-6ab3ff3d9e61"
      },
      "execution_count": null,
      "outputs": [
        {
          "output_type": "execute_result",
          "data": {
            "text/plain": [
              "0.375"
            ]
          },
          "metadata": {},
          "execution_count": 30
        }
      ]
    },
    {
      "cell_type": "code",
      "source": [
        "D = {omega for omega in Omega if omega.count(\"S\")== 1}\n",
        "D"
      ],
      "metadata": {
        "colab": {
          "base_uri": "https://localhost:8080/"
        },
        "id": "3Ssvc08Oo01r",
        "outputId": "46521b35-b9b8-4b49-cec9-641d829cf283"
      },
      "execution_count": null,
      "outputs": [
        {
          "output_type": "execute_result",
          "data": {
            "text/plain": [
              "{('A', 'A', 'S'), ('A', 'S', 'A'), ('S', 'A', 'A')}"
            ]
          },
          "metadata": {},
          "execution_count": 29
        }
      ]
    },
    {
      "cell_type": "code",
      "source": [
        "Pd = len(D)/len(Omega)\n",
        "Pd"
      ],
      "metadata": {
        "colab": {
          "base_uri": "https://localhost:8080/"
        },
        "id": "_jDsqY63pLjI",
        "outputId": "9baa4e98-4106-40a7-d37b-7cb42a861820"
      },
      "execution_count": null,
      "outputs": [
        {
          "output_type": "execute_result",
          "data": {
            "text/plain": [
              "0.375"
            ]
          },
          "metadata": {},
          "execution_count": 31
        }
      ]
    },
    {
      "cell_type": "code",
      "source": [
        "X = {omega for omega in Omega if omega [0] == \"S\"}\n",
        "X"
      ],
      "metadata": {
        "colab": {
          "base_uri": "https://localhost:8080/"
        },
        "id": "Y4HYFZgJuo5Y",
        "outputId": "456dc302-b409-429a-8f35-ec80dbc89902"
      },
      "execution_count": null,
      "outputs": [
        {
          "output_type": "execute_result",
          "data": {
            "text/plain": [
              "{('S', 'A', 'A'), ('S', 'A', 'S'), ('S', 'S', 'A'), ('S', 'S', 'S')}"
            ]
          },
          "metadata": {},
          "execution_count": 43
        }
      ]
    },
    {
      "cell_type": "code",
      "source": [
        "Z = {omega for omega in Omega if omega.count (\"S\") == 2}\n",
        "Z"
      ],
      "metadata": {
        "colab": {
          "base_uri": "https://localhost:8080/"
        },
        "id": "FFfNemfFvh5S",
        "outputId": "39d6240d-bf2b-4299-cf25-bc0b10cd4fc3"
      },
      "execution_count": null,
      "outputs": [
        {
          "output_type": "execute_result",
          "data": {
            "text/plain": [
              "{('A', 'S', 'S'), ('S', 'A', 'S'), ('S', 'S', 'A')}"
            ]
          },
          "metadata": {},
          "execution_count": 47
        }
      ]
    },
    {
      "cell_type": "code",
      "source": [
        "Y = X.intersection(Z)\n",
        "Y"
      ],
      "metadata": {
        "colab": {
          "base_uri": "https://localhost:8080/"
        },
        "id": "OruYUz1swg3V",
        "outputId": "45d395d0-1fc3-476c-c907-ebb3625b66d3"
      },
      "execution_count": null,
      "outputs": [
        {
          "output_type": "execute_result",
          "data": {
            "text/plain": [
              "{('S', 'A', 'S'), ('S', 'S', 'A')}"
            ]
          },
          "metadata": {},
          "execution_count": 49
        }
      ]
    },
    {
      "cell_type": "code",
      "source": [
        "LL = len(Y.intersection(Z))/ len(Z)\n",
        "LL"
      ],
      "metadata": {
        "colab": {
          "base_uri": "https://localhost:8080/"
        },
        "id": "c-Efs50dws_P",
        "outputId": "8a5fc860-c8f6-40e6-8dc5-71da06efc1d5"
      },
      "execution_count": null,
      "outputs": [
        {
          "output_type": "execute_result",
          "data": {
            "text/plain": [
              "0.6666666666666666"
            ]
          },
          "metadata": {},
          "execution_count": 52
        }
      ]
    },
    {
      "cell_type": "markdown",
      "source": [
        "2. Para tres eventos: A, B y C, sabemos que:\n",
        "\n",
        "> Indented block\n",
        "\n",
        "\n",
        "A y C son independientes. \n",
        "B y C son independientes. \n",
        "A y B son disjuntos.\n",
        "P(A U C)= 2/3, P(B U C) = 3/4, P(A U B U C) = 11/12\n",
        "Encuentra P(A), P(B), and P(C)."
      ],
      "metadata": {
        "id": "Zkt2-Zhrgevy"
      }
    },
    {
      "cell_type": "code",
      "source": [
        "P(A U B U C) = 11/12\n",
        "P(B U C) = 9/12 = (3/4)\n",
        "P(A U C) = 8/12 = (2/3)\n",
        "\n",
        "P(A) = P(A U B U C) - P(B U C)\n",
        "P(A) = 11/12 - 9/12 = 2/12 = 1/6\n",
        "P(A) = 1/3\n",
        "\n",
        "P(C) = P(A U C) - P(A)\n",
        "P(C) = 8/12 - 2/12 = 6/12 = 1/2\n",
        "P(C) = 1/2\n",
        "\n",
        "P(B) = P(B U C) - P(C)\n",
        "P(B) = 9/12 - 6/12 = 3/12 = 1/4\n",
        "P(B) = 1/2\n"
      ],
      "metadata": {
        "id": "2Bs0pzmScZen"
      },
      "execution_count": null,
      "outputs": []
    },
    {
      "cell_type": "markdown",
      "source": [
        "DISJUNTOS: no pasan al mismo tiempo\n",
        "INDEPENDIENTES: producto, se esta multiplicaando la probabilidad."
      ],
      "metadata": {
        "id": "1lvgI8uPfQlq"
      }
    },
    {
      "cell_type": "markdown",
      "source": [
        "3. En la CDMX llueve la tercera parte de los dias. Dado que llueve, habra mucho trafico con una probabilidad de 1/2 y dado que no llueve, habra mucho trafico con una probabilidad de 1/4. Si llueve y hay mucho trafico, llego tarde al trabajo con una probabilidad de 1/2. Por otro lado, la probabilidad de llegar tarde se reduce a 1/8 si no llueve y no hay mucho trafico. En otras situaciones (lluvia y sin trafico, sin lluvia y trafico) la probabilidad de llegar tarde es de 0.25. Elige un dia al azar. \n",
        "Cual es la probabilidad de que no llueva y haya mucho trafico y no llegue tarde?\n",
        "Cual es la probabilidad de que llegue tarde?\n",
        "Dado que llegue tarde al trabajo, cual es la probabilidad de que lloviera ese dia?"
      ],
      "metadata": {
        "id": "VbsilQzMhV50"
      }
    },
    {
      "cell_type": "markdown",
      "source": [
        "Diagrama de arbol "
      ],
      "metadata": {
        "id": "UKkUluo0J1p5"
      }
    },
    {
      "cell_type": "markdown",
      "source": [
        "4. En cierto pueblo, 30% de la gente son conservadores, 50% socialistas y 20% liberales. En esta localidad en las ultimas elecciones votaron el 65% de los conservadores, el 82% de los socialistas y el 50% de los liberales. Se seleccional al azar una persona del pueblo y afirma que voto en las ultimas elecciones. Cual es la probabilidad de que sea socialista?"
      ],
      "metadata": {
        "id": "-8Gx6khjiZJF"
      }
    },
    {
      "cell_type": "code",
      "source": [
        "conservadores = .30\n",
        "socialistas = .50\n",
        "liberales = .20\n",
        "\n",
        "conservadoresvotan = 0.195\n",
        "conservadoresnovotan = 0.805\n",
        "socialistasvotan = 0.41 *\n",
        "\n",
        "socialistasnovotan = 0.59\n",
        "liberalesvotan = 0.1\n",
        "liberalesnovotan = 0.9"
      ],
      "metadata": {
        "id": "gUsnrJ2sAFfa"
      },
      "execution_count": null,
      "outputs": []
    },
    {
      "cell_type": "markdown",
      "source": [
        "Lo resolvi con diagrama de arbol."
      ],
      "metadata": {
        "id": "H9lj0xFmrjb-"
      }
    }
  ]
}