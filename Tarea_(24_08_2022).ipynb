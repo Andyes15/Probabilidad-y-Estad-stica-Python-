{
  "nbformat": 4,
  "nbformat_minor": 0,
  "metadata": {
    "colab": {
      "provenance": [],
      "collapsed_sections": []
    },
    "kernelspec": {
      "name": "python3",
      "display_name": "Python 3"
    },
    "language_info": {
      "name": "python"
    }
  },
  "cells": [
    {
      "cell_type": "markdown",
      "source": [
        "#Tarea 1: Probabilidad y Estadística\n",
        "##Andrea Espindola Macias\n",
        "###ID: 0243394\n",
        "\n",
        "Instrucciones:\n",
        "\n"
      ],
      "metadata": {
        "id": "9dDSsa_8o-OL"
      }
    },
    {
      "cell_type": "markdown",
      "source": [
        "1. Describir el espacio muestral:"
      ],
      "metadata": {
        "id": "Y8M7wBC34EmE"
      }
    },
    {
      "cell_type": "code",
      "source": [
        "from itertools import product\n",
        "from IPython.core.display import display_markdown\n",
        "import pandas as pd\n",
        "\n",
        "\n"
      ],
      "metadata": {
        "id": "AmYLPs8Vp2MK"
      },
      "execution_count": null,
      "outputs": []
    },
    {
      "cell_type": "code",
      "source": [
        "OMEGA = set(product([1,2,3,4,5,6], repeat = 2))\n",
        "(OMEGA)"
      ],
      "metadata": {
        "colab": {
          "base_uri": "https://localhost:8080/"
        },
        "id": "L3-cCllUSfPU",
        "outputId": "7badc03a-40e5-4522-b73e-24a38af9bcbf"
      },
      "execution_count": null,
      "outputs": [
        {
          "output_type": "execute_result",
          "data": {
            "text/plain": [
              "{(1, 1),\n",
              " (1, 2),\n",
              " (1, 3),\n",
              " (1, 4),\n",
              " (1, 5),\n",
              " (1, 6),\n",
              " (2, 1),\n",
              " (2, 2),\n",
              " (2, 3),\n",
              " (2, 4),\n",
              " (2, 5),\n",
              " (2, 6),\n",
              " (3, 1),\n",
              " (3, 2),\n",
              " (3, 3),\n",
              " (3, 4),\n",
              " (3, 5),\n",
              " (3, 6),\n",
              " (4, 1),\n",
              " (4, 2),\n",
              " (4, 3),\n",
              " (4, 4),\n",
              " (4, 5),\n",
              " (4, 6),\n",
              " (5, 1),\n",
              " (5, 2),\n",
              " (5, 3),\n",
              " (5, 4),\n",
              " (5, 5),\n",
              " (5, 6),\n",
              " (6, 1),\n",
              " (6, 2),\n",
              " (6, 3),\n",
              " (6, 4),\n",
              " (6, 5),\n",
              " (6, 6)}"
            ]
          },
          "metadata": {},
          "execution_count": 2
        }
      ]
    },
    {
      "cell_type": "code",
      "source": [
        "len(OMEGA)"
      ],
      "metadata": {
        "colab": {
          "base_uri": "https://localhost:8080/"
        },
        "id": "h2e3fo11xVff",
        "outputId": "4f86b1f2-e075-48c6-d65a-3e64579a8764"
      },
      "execution_count": null,
      "outputs": [
        {
          "output_type": "execute_result",
          "data": {
            "text/plain": [
              "36"
            ]
          },
          "metadata": {},
          "execution_count": 3
        }
      ]
    },
    {
      "cell_type": "markdown",
      "source": [
        "2. Considere el evento S(n): la suma de las caras de los dados en n. "
      ],
      "metadata": {
        "id": "-uGOsE2T4gVA"
      }
    },
    {
      "cell_type": "code",
      "source": [
        "a = [1,2,3,4,5,6]\n",
        "b = [1,2,3,4,5,6]\n",
        "def S(n):\n",
        "  Sn=[(a,b) for a  in range (1,7) for b in range (1,7) if a+b == n]\n",
        "  return(Sn)\n",
        "\n"
      ],
      "metadata": {
        "id": "AvzECHAo6eb4"
      },
      "execution_count": null,
      "outputs": []
    },
    {
      "cell_type": "markdown",
      "source": [
        "3. Calcular S(2) hasta S(12) - Forma 1"
      ],
      "metadata": {
        "id": "w5ssInVmDErx"
      }
    },
    {
      "cell_type": "code",
      "source": [
        "Sumade2 = S(2)\n",
        "Sumade2"
      ],
      "metadata": {
        "colab": {
          "base_uri": "https://localhost:8080/"
        },
        "id": "W8gF-G8xAkLx",
        "outputId": "1a4413a6-f402-4079-82ef-f802c0ffebfe"
      },
      "execution_count": null,
      "outputs": [
        {
          "output_type": "execute_result",
          "data": {
            "text/plain": [
              "[(1, 1)]"
            ]
          },
          "metadata": {},
          "execution_count": 5
        }
      ]
    },
    {
      "cell_type": "code",
      "source": [
        "Sumade3 = S(3)\n",
        "Sumade3"
      ],
      "metadata": {
        "colab": {
          "base_uri": "https://localhost:8080/"
        },
        "id": "GOlTFFxICxWe",
        "outputId": "a80f01cc-6314-4cdb-effc-b847b6f205dd"
      },
      "execution_count": null,
      "outputs": [
        {
          "output_type": "execute_result",
          "data": {
            "text/plain": [
              "[(1, 2), (2, 1)]"
            ]
          },
          "metadata": {},
          "execution_count": 6
        }
      ]
    },
    {
      "cell_type": "code",
      "source": [
        "Sumade4 = S(4)\n",
        "Sumade4"
      ],
      "metadata": {
        "colab": {
          "base_uri": "https://localhost:8080/"
        },
        "id": "_hNn7J48DGyD",
        "outputId": "29208ca3-1e1f-491e-dad3-2acaaa1532d2"
      },
      "execution_count": null,
      "outputs": [
        {
          "output_type": "execute_result",
          "data": {
            "text/plain": [
              "[(1, 3), (2, 2), (3, 1)]"
            ]
          },
          "metadata": {},
          "execution_count": 7
        }
      ]
    },
    {
      "cell_type": "code",
      "source": [
        "Sumade5 = S(5)\n",
        "Sumade5"
      ],
      "metadata": {
        "colab": {
          "base_uri": "https://localhost:8080/"
        },
        "id": "rGXCxCb1jGlG",
        "outputId": "40a1b494-b212-42d3-9959-99ad7252b366"
      },
      "execution_count": null,
      "outputs": [
        {
          "output_type": "execute_result",
          "data": {
            "text/plain": [
              "[(1, 4), (2, 3), (3, 2), (4, 1)]"
            ]
          },
          "metadata": {},
          "execution_count": 8
        }
      ]
    },
    {
      "cell_type": "code",
      "source": [
        "Sumade6 = S(6)\n",
        "Sumade6"
      ],
      "metadata": {
        "colab": {
          "base_uri": "https://localhost:8080/"
        },
        "id": "S8oSz7cTjNHu",
        "outputId": "0b8e9495-8cb2-4310-88bd-f957328a3076"
      },
      "execution_count": null,
      "outputs": [
        {
          "output_type": "execute_result",
          "data": {
            "text/plain": [
              "[(1, 5), (2, 4), (3, 3), (4, 2), (5, 1)]"
            ]
          },
          "metadata": {},
          "execution_count": 9
        }
      ]
    },
    {
      "cell_type": "code",
      "source": [
        "Sumade7 = S(7)\n",
        "Sumade7"
      ],
      "metadata": {
        "colab": {
          "base_uri": "https://localhost:8080/"
        },
        "id": "z8OFxAlBjNsb",
        "outputId": "42a66967-4567-487f-d049-654d467e0b74"
      },
      "execution_count": null,
      "outputs": [
        {
          "output_type": "execute_result",
          "data": {
            "text/plain": [
              "[(1, 6), (2, 5), (3, 4), (4, 3), (5, 2), (6, 1)]"
            ]
          },
          "metadata": {},
          "execution_count": 10
        }
      ]
    },
    {
      "cell_type": "code",
      "source": [
        "Sumade8 = S(8)\n",
        "Sumade8"
      ],
      "metadata": {
        "colab": {
          "base_uri": "https://localhost:8080/"
        },
        "id": "arVhFUvqjN9Z",
        "outputId": "c452c940-c06b-40b7-f581-79fff88d8c54"
      },
      "execution_count": null,
      "outputs": [
        {
          "output_type": "execute_result",
          "data": {
            "text/plain": [
              "[(2, 6), (3, 5), (4, 4), (5, 3), (6, 2)]"
            ]
          },
          "metadata": {},
          "execution_count": 11
        }
      ]
    },
    {
      "cell_type": "code",
      "source": [
        "Sumade9 = S(9)\n",
        "Sumade9"
      ],
      "metadata": {
        "colab": {
          "base_uri": "https://localhost:8080/"
        },
        "id": "f7o0B54UjOJw",
        "outputId": "8630cfb1-2b8d-43e6-d78c-85987176d257"
      },
      "execution_count": null,
      "outputs": [
        {
          "output_type": "execute_result",
          "data": {
            "text/plain": [
              "[(3, 6), (4, 5), (5, 4), (6, 3)]"
            ]
          },
          "metadata": {},
          "execution_count": 12
        }
      ]
    },
    {
      "cell_type": "code",
      "source": [
        "Sumade10 = S(10)\n",
        "Sumade10"
      ],
      "metadata": {
        "colab": {
          "base_uri": "https://localhost:8080/"
        },
        "id": "Y8ZQqhZ2jbm8",
        "outputId": "37be1533-02b5-40c2-9235-6ae1a5c79c33"
      },
      "execution_count": null,
      "outputs": [
        {
          "output_type": "execute_result",
          "data": {
            "text/plain": [
              "[(4, 6), (5, 5), (6, 4)]"
            ]
          },
          "metadata": {},
          "execution_count": 13
        }
      ]
    },
    {
      "cell_type": "code",
      "source": [
        "Sumade11 = S(11)\n",
        "Sumade11"
      ],
      "metadata": {
        "colab": {
          "base_uri": "https://localhost:8080/"
        },
        "id": "OTlnGBg1jb1Z",
        "outputId": "fc755960-e4e0-4a4a-ca51-88c4743d94d7"
      },
      "execution_count": null,
      "outputs": [
        {
          "output_type": "execute_result",
          "data": {
            "text/plain": [
              "[(5, 6), (6, 5)]"
            ]
          },
          "metadata": {},
          "execution_count": 14
        }
      ]
    },
    {
      "cell_type": "code",
      "source": [
        "Sumade12 = S(12)\n",
        "Sumade12"
      ],
      "metadata": {
        "colab": {
          "base_uri": "https://localhost:8080/"
        },
        "id": "jF7oeU6njb9O",
        "outputId": "b2ec0192-7605-4c2f-8e58-d0da2ea085c8"
      },
      "execution_count": null,
      "outputs": [
        {
          "output_type": "execute_result",
          "data": {
            "text/plain": [
              "[(6, 6)]"
            ]
          },
          "metadata": {},
          "execution_count": 15
        }
      ]
    },
    {
      "cell_type": "markdown",
      "source": [
        "3. Calcular S(2) hasta S(12) - Forma 2"
      ],
      "metadata": {
        "id": "rkOJ30OD5HvL"
      }
    },
    {
      "cell_type": "code",
      "source": [
        "Sumade2 = {omega for omega in OMEGA if omega[0] + omega[1] == 2}\n",
        "Sumade3 = {omega for omega in OMEGA if omega[0] + omega[1] == 3}\n",
        "Sumade4 = {omega for omega in OMEGA if omega[0] + omega[1] == 4}\n",
        "Sumade5 = {omega for omega in OMEGA if omega[0] + omega[1] == 5}\n",
        "Sumade6 = {omega for omega in OMEGA if omega[0] + omega[1] == 6}\n",
        "Sumade7 = {omega for omega in OMEGA if omega[0] + omega[1] == 7}\n",
        "Sumade8 = {omega for omega in OMEGA if omega[0] + omega[1] == 8}\n",
        "Sumade9 = {omega for omega in OMEGA if omega[0] + omega[1] == 9}\n",
        "Sumade10 = {omega for omega in OMEGA if omega[0] + omega[1] == 10}\n",
        "Sumade11 = {omega for omega in OMEGA if omega[0] + omega[1] == 11}\n",
        "Sumade12 = {omega for omega in OMEGA if omega[0] + omega[1] == 12}\n",
        "\n"
      ],
      "metadata": {
        "id": "g2x_kGXQ5kah"
      },
      "execution_count": null,
      "outputs": []
    },
    {
      "cell_type": "code",
      "source": [
        "Sumade2"
      ],
      "metadata": {
        "colab": {
          "base_uri": "https://localhost:8080/"
        },
        "id": "3Suny3Ei-UCk",
        "outputId": "e9293d24-f15b-4107-90fc-89f14bdaf1ed"
      },
      "execution_count": null,
      "outputs": [
        {
          "output_type": "execute_result",
          "data": {
            "text/plain": [
              "{(1, 1)}"
            ]
          },
          "metadata": {},
          "execution_count": 17
        }
      ]
    },
    {
      "cell_type": "code",
      "source": [
        "Sumade3"
      ],
      "metadata": {
        "colab": {
          "base_uri": "https://localhost:8080/"
        },
        "id": "uuw2KYyD5-yC",
        "outputId": "52cc748d-0b65-4036-a9cc-adaa0688cc6b"
      },
      "execution_count": null,
      "outputs": [
        {
          "output_type": "execute_result",
          "data": {
            "text/plain": [
              "{(1, 2), (2, 1)}"
            ]
          },
          "metadata": {},
          "execution_count": 18
        }
      ]
    },
    {
      "cell_type": "code",
      "source": [
        "Sumade4"
      ],
      "metadata": {
        "colab": {
          "base_uri": "https://localhost:8080/"
        },
        "id": "wokoUxGr5__3",
        "outputId": "22e886ef-b593-4932-e5a7-d3141013ea4e"
      },
      "execution_count": null,
      "outputs": [
        {
          "output_type": "execute_result",
          "data": {
            "text/plain": [
              "{(1, 3), (2, 2), (3, 1)}"
            ]
          },
          "metadata": {},
          "execution_count": 19
        }
      ]
    },
    {
      "cell_type": "code",
      "source": [
        "Sumade5"
      ],
      "metadata": {
        "colab": {
          "base_uri": "https://localhost:8080/"
        },
        "id": "Dmd2lhDz6Aq_",
        "outputId": "98b264fe-000e-4841-e903-8112e23c98c4"
      },
      "execution_count": null,
      "outputs": [
        {
          "output_type": "execute_result",
          "data": {
            "text/plain": [
              "{(1, 4), (2, 3), (3, 2), (4, 1)}"
            ]
          },
          "metadata": {},
          "execution_count": 20
        }
      ]
    },
    {
      "cell_type": "code",
      "source": [
        "Sumade6"
      ],
      "metadata": {
        "colab": {
          "base_uri": "https://localhost:8080/"
        },
        "id": "MqAxREC86BIT",
        "outputId": "11732c83-355a-4fb8-f5f5-4a39ce0250c3"
      },
      "execution_count": null,
      "outputs": [
        {
          "output_type": "execute_result",
          "data": {
            "text/plain": [
              "{(1, 5), (2, 4), (3, 3), (4, 2), (5, 1)}"
            ]
          },
          "metadata": {},
          "execution_count": 21
        }
      ]
    },
    {
      "cell_type": "code",
      "source": [
        "Sumade7"
      ],
      "metadata": {
        "colab": {
          "base_uri": "https://localhost:8080/"
        },
        "id": "OYzoI0sY6BxR",
        "outputId": "ad3426fb-cf56-4de5-d684-c8a2853415ca"
      },
      "execution_count": null,
      "outputs": [
        {
          "output_type": "execute_result",
          "data": {
            "text/plain": [
              "{(1, 6), (2, 5), (3, 4), (4, 3), (5, 2), (6, 1)}"
            ]
          },
          "metadata": {},
          "execution_count": 22
        }
      ]
    },
    {
      "cell_type": "code",
      "source": [
        "Sumade8"
      ],
      "metadata": {
        "colab": {
          "base_uri": "https://localhost:8080/"
        },
        "id": "plHZ6t1F6CMX",
        "outputId": "9e8a6412-cc9c-450b-9d4a-bbbe16c2d1a3"
      },
      "execution_count": null,
      "outputs": [
        {
          "output_type": "execute_result",
          "data": {
            "text/plain": [
              "{(2, 6), (3, 5), (4, 4), (5, 3), (6, 2)}"
            ]
          },
          "metadata": {},
          "execution_count": 23
        }
      ]
    },
    {
      "cell_type": "code",
      "source": [
        "Sumade9"
      ],
      "metadata": {
        "colab": {
          "base_uri": "https://localhost:8080/"
        },
        "id": "6eTp-0uC6Ct4",
        "outputId": "51809c4b-956b-4bdb-a831-f00359eebd27"
      },
      "execution_count": null,
      "outputs": [
        {
          "output_type": "execute_result",
          "data": {
            "text/plain": [
              "{(3, 6), (4, 5), (5, 4), (6, 3)}"
            ]
          },
          "metadata": {},
          "execution_count": 24
        }
      ]
    },
    {
      "cell_type": "code",
      "source": [
        "Sumade10"
      ],
      "metadata": {
        "colab": {
          "base_uri": "https://localhost:8080/"
        },
        "id": "VcBqVC3F6DEl",
        "outputId": "d84d9991-a178-48d2-c586-53634fd278d1"
      },
      "execution_count": null,
      "outputs": [
        {
          "output_type": "execute_result",
          "data": {
            "text/plain": [
              "{(4, 6), (5, 5), (6, 4)}"
            ]
          },
          "metadata": {},
          "execution_count": 25
        }
      ]
    },
    {
      "cell_type": "code",
      "source": [
        "Sumade11"
      ],
      "metadata": {
        "colab": {
          "base_uri": "https://localhost:8080/"
        },
        "id": "VO9qpZb86DtY",
        "outputId": "ce88b4a0-5d43-4f08-89c3-1905d3c8f230"
      },
      "execution_count": null,
      "outputs": [
        {
          "output_type": "execute_result",
          "data": {
            "text/plain": [
              "{(5, 6), (6, 5)}"
            ]
          },
          "metadata": {},
          "execution_count": 26
        }
      ]
    },
    {
      "cell_type": "code",
      "source": [
        "Sumade12"
      ],
      "metadata": {
        "colab": {
          "base_uri": "https://localhost:8080/"
        },
        "id": "y7qzsTXi6ELm",
        "outputId": "fe888b5f-e6cb-4677-c67b-b6f589ce9052"
      },
      "execution_count": null,
      "outputs": [
        {
          "output_type": "execute_result",
          "data": {
            "text/plain": [
              "{(6, 6)}"
            ]
          },
          "metadata": {},
          "execution_count": 27
        }
      ]
    },
    {
      "cell_type": "markdown",
      "source": [
        "4. Resta que de como resultado 1"
      ],
      "metadata": {
        "id": "0LsqLWOokKyM"
      }
    },
    {
      "cell_type": "code",
      "source": [
        "a = [1,2,3,4,5,6]\n",
        "b = [1,2,3,4,5,6]\n",
        "def R(n):\n",
        " Rn =[(a,b) for a in range (1,7) for b in range (1,7) if a-b == 1]\n",
        " return Rn "
      ],
      "metadata": {
        "id": "0tJ9B1mNke2j"
      },
      "execution_count": null,
      "outputs": []
    },
    {
      "cell_type": "code",
      "source": [
        "Restaiguala1 = R(1)\n",
        "R(1)"
      ],
      "metadata": {
        "colab": {
          "base_uri": "https://localhost:8080/"
        },
        "id": "gxogD83jlrbr",
        "outputId": "bf5c262e-6253-404f-c09a-8051c439cc88"
      },
      "execution_count": null,
      "outputs": [
        {
          "output_type": "execute_result",
          "data": {
            "text/plain": [
              "[(2, 1), (3, 2), (4, 3), (5, 4), (6, 5)]"
            ]
          },
          "metadata": {},
          "execution_count": 29
        }
      ]
    },
    {
      "cell_type": "markdown",
      "source": [
        "5. Probabilidad Resta\n"
      ],
      "metadata": {
        "id": "qYHQSC6GW5Ew"
      }
    },
    {
      "cell_type": "code",
      "source": [
        "P = len(Restaiguala1)/len(OMEGA)\n",
        "P"
      ],
      "metadata": {
        "colab": {
          "base_uri": "https://localhost:8080/"
        },
        "id": "4PQLGYF6W-Im",
        "outputId": "3ee380fe-aca7-41f1-8899-753f7068cd86"
      },
      "execution_count": null,
      "outputs": [
        {
          "output_type": "execute_result",
          "data": {
            "text/plain": [
              "0.1388888888888889"
            ]
          },
          "metadata": {},
          "execution_count": 31
        }
      ]
    },
    {
      "cell_type": "markdown",
      "source": [
        "6. Data Frame"
      ],
      "metadata": {
        "id": "PdbDa9xH5Oa1"
      }
    },
    {
      "cell_type": "code",
      "source": [
        "Tabla = {\"Suma de 2\": [Sumade2], \"Suma de 3\": [Sumade3], \"Suma de 4\": [Sumade4], \"Suma de 5\": [Sumade5], \"Suma de 6\": [Sumade6], \"Suma de 7\": [Sumade7], \"Suma de 8\": [Sumade8], \"Suma de 9\": [Sumade9], \"Suma de 10\": [Sumade10], \"Suma de 11\": [Sumade11], \"Suma de 12\": [Sumade12],}"
      ],
      "metadata": {
        "id": "IFLNnsJIA1Jr"
      },
      "execution_count": null,
      "outputs": []
    },
    {
      "cell_type": "code",
      "source": [
        "Tabla"
      ],
      "metadata": {
        "colab": {
          "base_uri": "https://localhost:8080/"
        },
        "id": "MZFh3MO7BqyY",
        "outputId": "b09b9ecc-be36-41e1-a296-19e948c94adb"
      },
      "execution_count": null,
      "outputs": [
        {
          "output_type": "execute_result",
          "data": {
            "text/plain": [
              "{'Suma de 2': [{(1, 1)}],\n",
              " 'Suma de 3': [{(1, 2), (2, 1)}],\n",
              " 'Suma de 4': [{(1, 3), (2, 2), (3, 1)}],\n",
              " 'Suma de 5': [{(1, 4), (2, 3), (3, 2), (4, 1)}],\n",
              " 'Suma de 6': [{(1, 5), (2, 4), (3, 3), (4, 2), (5, 1)}],\n",
              " 'Suma de 7': [{(1, 6), (2, 5), (3, 4), (4, 3), (5, 2), (6, 1)}],\n",
              " 'Suma de 8': [{(2, 6), (3, 5), (4, 4), (5, 3), (6, 2)}],\n",
              " 'Suma de 9': [{(3, 6), (4, 5), (5, 4), (6, 3)}],\n",
              " 'Suma de 10': [{(4, 6), (5, 5), (6, 4)}],\n",
              " 'Suma de 11': [{(5, 6), (6, 5)}],\n",
              " 'Suma de 12': [{(6, 6)}]}"
            ]
          },
          "metadata": {},
          "execution_count": 33
        }
      ]
    },
    {
      "cell_type": "code",
      "source": [
        "index = \"valores\"\n",
        "dftabla = pd.DataFrame(Tabla, index=[index])\n",
        "dftabla"
      ],
      "metadata": {
        "colab": {
          "base_uri": "https://localhost:8080/",
          "height": 158
        },
        "id": "RjlrUYejBxQZ",
        "outputId": "4b593493-2410-4184-b148-0b715a3d6f8b"
      },
      "execution_count": null,
      "outputs": [
        {
          "output_type": "execute_result",
          "data": {
            "text/plain": [
              "        Suma de 2         Suma de 3                 Suma de 4  \\\n",
              "valores  {(1, 1)}  {(1, 2), (2, 1)}  {(1, 3), (3, 1), (2, 2)}   \n",
              "\n",
              "                                Suma de 5  \\\n",
              "valores  {(3, 2), (4, 1), (1, 4), (2, 3)}   \n",
              "\n",
              "                                        Suma de 6  \\\n",
              "valores  {(5, 1), (3, 3), (1, 5), (4, 2), (2, 4)}   \n",
              "\n",
              "                                                Suma de 7  \\\n",
              "valores  {(6, 1), (1, 6), (4, 3), (3, 4), (2, 5), (5, 2)}   \n",
              "\n",
              "                                        Suma de 8  \\\n",
              "valores  {(3, 5), (2, 6), (4, 4), (6, 2), (5, 3)}   \n",
              "\n",
              "                                Suma de 9                Suma de 10  \\\n",
              "valores  {(6, 3), (5, 4), (4, 5), (3, 6)}  {(6, 4), (4, 6), (5, 5)}   \n",
              "\n",
              "               Suma de 11 Suma de 12  \n",
              "valores  {(5, 6), (6, 5)}   {(6, 6)}  "
            ],
            "text/html": [
              "\n",
              "  <div id=\"df-87bebdf6-332f-411e-8e5f-4d86ef902811\">\n",
              "    <div class=\"colab-df-container\">\n",
              "      <div>\n",
              "<style scoped>\n",
              "    .dataframe tbody tr th:only-of-type {\n",
              "        vertical-align: middle;\n",
              "    }\n",
              "\n",
              "    .dataframe tbody tr th {\n",
              "        vertical-align: top;\n",
              "    }\n",
              "\n",
              "    .dataframe thead th {\n",
              "        text-align: right;\n",
              "    }\n",
              "</style>\n",
              "<table border=\"1\" class=\"dataframe\">\n",
              "  <thead>\n",
              "    <tr style=\"text-align: right;\">\n",
              "      <th></th>\n",
              "      <th>Suma de 2</th>\n",
              "      <th>Suma de 3</th>\n",
              "      <th>Suma de 4</th>\n",
              "      <th>Suma de 5</th>\n",
              "      <th>Suma de 6</th>\n",
              "      <th>Suma de 7</th>\n",
              "      <th>Suma de 8</th>\n",
              "      <th>Suma de 9</th>\n",
              "      <th>Suma de 10</th>\n",
              "      <th>Suma de 11</th>\n",
              "      <th>Suma de 12</th>\n",
              "    </tr>\n",
              "  </thead>\n",
              "  <tbody>\n",
              "    <tr>\n",
              "      <th>valores</th>\n",
              "      <td>{(1, 1)}</td>\n",
              "      <td>{(1, 2), (2, 1)}</td>\n",
              "      <td>{(1, 3), (3, 1), (2, 2)}</td>\n",
              "      <td>{(3, 2), (4, 1), (1, 4), (2, 3)}</td>\n",
              "      <td>{(5, 1), (3, 3), (1, 5), (4, 2), (2, 4)}</td>\n",
              "      <td>{(6, 1), (1, 6), (4, 3), (3, 4), (2, 5), (5, 2)}</td>\n",
              "      <td>{(3, 5), (2, 6), (4, 4), (6, 2), (5, 3)}</td>\n",
              "      <td>{(6, 3), (5, 4), (4, 5), (3, 6)}</td>\n",
              "      <td>{(6, 4), (4, 6), (5, 5)}</td>\n",
              "      <td>{(5, 6), (6, 5)}</td>\n",
              "      <td>{(6, 6)}</td>\n",
              "    </tr>\n",
              "  </tbody>\n",
              "</table>\n",
              "</div>\n",
              "      <button class=\"colab-df-convert\" onclick=\"convertToInteractive('df-87bebdf6-332f-411e-8e5f-4d86ef902811')\"\n",
              "              title=\"Convert this dataframe to an interactive table.\"\n",
              "              style=\"display:none;\">\n",
              "        \n",
              "  <svg xmlns=\"http://www.w3.org/2000/svg\" height=\"24px\"viewBox=\"0 0 24 24\"\n",
              "       width=\"24px\">\n",
              "    <path d=\"M0 0h24v24H0V0z\" fill=\"none\"/>\n",
              "    <path d=\"M18.56 5.44l.94 2.06.94-2.06 2.06-.94-2.06-.94-.94-2.06-.94 2.06-2.06.94zm-11 1L8.5 8.5l.94-2.06 2.06-.94-2.06-.94L8.5 2.5l-.94 2.06-2.06.94zm10 10l.94 2.06.94-2.06 2.06-.94-2.06-.94-.94-2.06-.94 2.06-2.06.94z\"/><path d=\"M17.41 7.96l-1.37-1.37c-.4-.4-.92-.59-1.43-.59-.52 0-1.04.2-1.43.59L10.3 9.45l-7.72 7.72c-.78.78-.78 2.05 0 2.83L4 21.41c.39.39.9.59 1.41.59.51 0 1.02-.2 1.41-.59l7.78-7.78 2.81-2.81c.8-.78.8-2.07 0-2.86zM5.41 20L4 18.59l7.72-7.72 1.47 1.35L5.41 20z\"/>\n",
              "  </svg>\n",
              "      </button>\n",
              "      \n",
              "  <style>\n",
              "    .colab-df-container {\n",
              "      display:flex;\n",
              "      flex-wrap:wrap;\n",
              "      gap: 12px;\n",
              "    }\n",
              "\n",
              "    .colab-df-convert {\n",
              "      background-color: #E8F0FE;\n",
              "      border: none;\n",
              "      border-radius: 50%;\n",
              "      cursor: pointer;\n",
              "      display: none;\n",
              "      fill: #1967D2;\n",
              "      height: 32px;\n",
              "      padding: 0 0 0 0;\n",
              "      width: 32px;\n",
              "    }\n",
              "\n",
              "    .colab-df-convert:hover {\n",
              "      background-color: #E2EBFA;\n",
              "      box-shadow: 0px 1px 2px rgba(60, 64, 67, 0.3), 0px 1px 3px 1px rgba(60, 64, 67, 0.15);\n",
              "      fill: #174EA6;\n",
              "    }\n",
              "\n",
              "    [theme=dark] .colab-df-convert {\n",
              "      background-color: #3B4455;\n",
              "      fill: #D2E3FC;\n",
              "    }\n",
              "\n",
              "    [theme=dark] .colab-df-convert:hover {\n",
              "      background-color: #434B5C;\n",
              "      box-shadow: 0px 1px 3px 1px rgba(0, 0, 0, 0.15);\n",
              "      filter: drop-shadow(0px 1px 2px rgba(0, 0, 0, 0.3));\n",
              "      fill: #FFFFFF;\n",
              "    }\n",
              "  </style>\n",
              "\n",
              "      <script>\n",
              "        const buttonEl =\n",
              "          document.querySelector('#df-87bebdf6-332f-411e-8e5f-4d86ef902811 button.colab-df-convert');\n",
              "        buttonEl.style.display =\n",
              "          google.colab.kernel.accessAllowed ? 'block' : 'none';\n",
              "\n",
              "        async function convertToInteractive(key) {\n",
              "          const element = document.querySelector('#df-87bebdf6-332f-411e-8e5f-4d86ef902811');\n",
              "          const dataTable =\n",
              "            await google.colab.kernel.invokeFunction('convertToInteractive',\n",
              "                                                     [key], {});\n",
              "          if (!dataTable) return;\n",
              "\n",
              "          const docLinkHtml = 'Like what you see? Visit the ' +\n",
              "            '<a target=\"_blank\" href=https://colab.research.google.com/notebooks/data_table.ipynb>data table notebook</a>'\n",
              "            + ' to learn more about interactive tables.';\n",
              "          element.innerHTML = '';\n",
              "          dataTable['output_type'] = 'display_data';\n",
              "          await google.colab.output.renderOutput(dataTable, element);\n",
              "          const docLink = document.createElement('div');\n",
              "          docLink.innerHTML = docLinkHtml;\n",
              "          element.appendChild(docLink);\n",
              "        }\n",
              "      </script>\n",
              "    </div>\n",
              "  </div>\n",
              "  "
            ]
          },
          "metadata": {},
          "execution_count": 34
        }
      ]
    },
    {
      "cell_type": "markdown",
      "source": [
        "6. Data Frame (Suma de 7, Suma de 2 y Resta que de como Resultado 1)"
      ],
      "metadata": {
        "id": "oGACpwvjxXgy"
      }
    },
    {
      "cell_type": "code",
      "source": [
        "tabla2 = {\"Suma de 2\": [Sumade2], \"Suma de 7\": [Sumade7], \"Resta\":[Restaiguala1]}"
      ],
      "metadata": {
        "id": "e6KBSqNdxjGM"
      },
      "execution_count": null,
      "outputs": []
    },
    {
      "cell_type": "code",
      "source": [
        "tabla2"
      ],
      "metadata": {
        "colab": {
          "base_uri": "https://localhost:8080/"
        },
        "id": "rkJ36gJyyo7t",
        "outputId": "4fce2ee4-a924-48fc-a572-0efcc1e22e23"
      },
      "execution_count": null,
      "outputs": [
        {
          "output_type": "execute_result",
          "data": {
            "text/plain": [
              "{'Suma de 2': [{(1, 1)}],\n",
              " 'Suma de 7': [{(1, 6), (2, 5), (3, 4), (4, 3), (5, 2), (6, 1)}],\n",
              " 'Resta': [[(2, 1), (3, 2), (4, 3), (5, 4), (6, 5)]]}"
            ]
          },
          "metadata": {},
          "execution_count": 36
        }
      ]
    },
    {
      "cell_type": "code",
      "source": [
        "index = \"valores2\"\n",
        "dftabla2 = pd.DataFrame(tabla2, index = [index])\n",
        "dftabla2"
      ],
      "metadata": {
        "colab": {
          "base_uri": "https://localhost:8080/",
          "height": 80
        },
        "id": "0q-jAOaFysfc",
        "outputId": "cdc181d4-e1ed-47cd-cb79-a082a444eeac"
      },
      "execution_count": null,
      "outputs": [
        {
          "output_type": "execute_result",
          "data": {
            "text/plain": [
              "         Suma de 2                                         Suma de 7  \\\n",
              "valores2  {(1, 1)}  {(6, 1), (1, 6), (4, 3), (3, 4), (2, 5), (5, 2)}   \n",
              "\n",
              "                                             Resta  \n",
              "valores2  [(2, 1), (3, 2), (4, 3), (5, 4), (6, 5)]  "
            ],
            "text/html": [
              "\n",
              "  <div id=\"df-53a411c1-afa4-4066-b5d6-d0498e0b041a\">\n",
              "    <div class=\"colab-df-container\">\n",
              "      <div>\n",
              "<style scoped>\n",
              "    .dataframe tbody tr th:only-of-type {\n",
              "        vertical-align: middle;\n",
              "    }\n",
              "\n",
              "    .dataframe tbody tr th {\n",
              "        vertical-align: top;\n",
              "    }\n",
              "\n",
              "    .dataframe thead th {\n",
              "        text-align: right;\n",
              "    }\n",
              "</style>\n",
              "<table border=\"1\" class=\"dataframe\">\n",
              "  <thead>\n",
              "    <tr style=\"text-align: right;\">\n",
              "      <th></th>\n",
              "      <th>Suma de 2</th>\n",
              "      <th>Suma de 7</th>\n",
              "      <th>Resta</th>\n",
              "    </tr>\n",
              "  </thead>\n",
              "  <tbody>\n",
              "    <tr>\n",
              "      <th>valores2</th>\n",
              "      <td>{(1, 1)}</td>\n",
              "      <td>{(6, 1), (1, 6), (4, 3), (3, 4), (2, 5), (5, 2)}</td>\n",
              "      <td>[(2, 1), (3, 2), (4, 3), (5, 4), (6, 5)]</td>\n",
              "    </tr>\n",
              "  </tbody>\n",
              "</table>\n",
              "</div>\n",
              "      <button class=\"colab-df-convert\" onclick=\"convertToInteractive('df-53a411c1-afa4-4066-b5d6-d0498e0b041a')\"\n",
              "              title=\"Convert this dataframe to an interactive table.\"\n",
              "              style=\"display:none;\">\n",
              "        \n",
              "  <svg xmlns=\"http://www.w3.org/2000/svg\" height=\"24px\"viewBox=\"0 0 24 24\"\n",
              "       width=\"24px\">\n",
              "    <path d=\"M0 0h24v24H0V0z\" fill=\"none\"/>\n",
              "    <path d=\"M18.56 5.44l.94 2.06.94-2.06 2.06-.94-2.06-.94-.94-2.06-.94 2.06-2.06.94zm-11 1L8.5 8.5l.94-2.06 2.06-.94-2.06-.94L8.5 2.5l-.94 2.06-2.06.94zm10 10l.94 2.06.94-2.06 2.06-.94-2.06-.94-.94-2.06-.94 2.06-2.06.94z\"/><path d=\"M17.41 7.96l-1.37-1.37c-.4-.4-.92-.59-1.43-.59-.52 0-1.04.2-1.43.59L10.3 9.45l-7.72 7.72c-.78.78-.78 2.05 0 2.83L4 21.41c.39.39.9.59 1.41.59.51 0 1.02-.2 1.41-.59l7.78-7.78 2.81-2.81c.8-.78.8-2.07 0-2.86zM5.41 20L4 18.59l7.72-7.72 1.47 1.35L5.41 20z\"/>\n",
              "  </svg>\n",
              "      </button>\n",
              "      \n",
              "  <style>\n",
              "    .colab-df-container {\n",
              "      display:flex;\n",
              "      flex-wrap:wrap;\n",
              "      gap: 12px;\n",
              "    }\n",
              "\n",
              "    .colab-df-convert {\n",
              "      background-color: #E8F0FE;\n",
              "      border: none;\n",
              "      border-radius: 50%;\n",
              "      cursor: pointer;\n",
              "      display: none;\n",
              "      fill: #1967D2;\n",
              "      height: 32px;\n",
              "      padding: 0 0 0 0;\n",
              "      width: 32px;\n",
              "    }\n",
              "\n",
              "    .colab-df-convert:hover {\n",
              "      background-color: #E2EBFA;\n",
              "      box-shadow: 0px 1px 2px rgba(60, 64, 67, 0.3), 0px 1px 3px 1px rgba(60, 64, 67, 0.15);\n",
              "      fill: #174EA6;\n",
              "    }\n",
              "\n",
              "    [theme=dark] .colab-df-convert {\n",
              "      background-color: #3B4455;\n",
              "      fill: #D2E3FC;\n",
              "    }\n",
              "\n",
              "    [theme=dark] .colab-df-convert:hover {\n",
              "      background-color: #434B5C;\n",
              "      box-shadow: 0px 1px 3px 1px rgba(0, 0, 0, 0.15);\n",
              "      filter: drop-shadow(0px 1px 2px rgba(0, 0, 0, 0.3));\n",
              "      fill: #FFFFFF;\n",
              "    }\n",
              "  </style>\n",
              "\n",
              "      <script>\n",
              "        const buttonEl =\n",
              "          document.querySelector('#df-53a411c1-afa4-4066-b5d6-d0498e0b041a button.colab-df-convert');\n",
              "        buttonEl.style.display =\n",
              "          google.colab.kernel.accessAllowed ? 'block' : 'none';\n",
              "\n",
              "        async function convertToInteractive(key) {\n",
              "          const element = document.querySelector('#df-53a411c1-afa4-4066-b5d6-d0498e0b041a');\n",
              "          const dataTable =\n",
              "            await google.colab.kernel.invokeFunction('convertToInteractive',\n",
              "                                                     [key], {});\n",
              "          if (!dataTable) return;\n",
              "\n",
              "          const docLinkHtml = 'Like what you see? Visit the ' +\n",
              "            '<a target=\"_blank\" href=https://colab.research.google.com/notebooks/data_table.ipynb>data table notebook</a>'\n",
              "            + ' to learn more about interactive tables.';\n",
              "          element.innerHTML = '';\n",
              "          dataTable['output_type'] = 'display_data';\n",
              "          await google.colab.output.renderOutput(dataTable, element);\n",
              "          const docLink = document.createElement('div');\n",
              "          docLink.innerHTML = docLinkHtml;\n",
              "          element.appendChild(docLink);\n",
              "        }\n",
              "      </script>\n",
              "    </div>\n",
              "  </div>\n",
              "  "
            ]
          },
          "metadata": {},
          "execution_count": 37
        }
      ]
    }
  ]
}