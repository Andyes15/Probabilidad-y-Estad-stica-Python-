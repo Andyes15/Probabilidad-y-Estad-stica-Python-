{
  "nbformat": 4,
  "nbformat_minor": 0,
  "metadata": {
    "colab": {
      "provenance": [],
      "collapsed_sections": []
    },
    "kernelspec": {
      "name": "python3",
      "display_name": "Python 3"
    },
    "language_info": {
      "name": "python"
    }
  },
  "cells": [
    {
      "cell_type": "markdown",
      "source": [
        "##Probabilidad y Estadistica\n",
        "###Desmond Ryan (0247230) y Andrea Espindola (0243394)\n",
        "####21/09/2022\n"
      ],
      "metadata": {
        "id": "Jsilpv3unjTD"
      }
    },
    {
      "cell_type": "code",
      "source": [
        "import pandas as pd"
      ],
      "metadata": {
        "id": "EQNaWaNXpN1w"
      },
      "execution_count": null,
      "outputs": []
    },
    {
      "cell_type": "code",
      "source": [
        "data = pd.read_csv('shoes_dataset.csv')\n",
        "data"
      ],
      "metadata": {
        "colab": {
          "base_uri": "https://localhost:8080/",
          "height": 341
        },
        "id": "7nZhXNMGpP3J",
        "outputId": "59df40fd-b6de-4b5c-9310-d6ed736f7374"
      },
      "execution_count": null,
      "outputs": [
        {
          "output_type": "error",
          "ename": "FileNotFoundError",
          "evalue": "ignored",
          "traceback": [
            "\u001b[0;31m---------------------------------------------------------------------------\u001b[0m",
            "\u001b[0;31mFileNotFoundError\u001b[0m                         Traceback (most recent call last)",
            "\u001b[0;32m<ipython-input-2-8d5918b3e472>\u001b[0m in \u001b[0;36m<module>\u001b[0;34m\u001b[0m\n\u001b[0;32m----> 1\u001b[0;31m \u001b[0mdata\u001b[0m \u001b[0;34m=\u001b[0m \u001b[0mpd\u001b[0m\u001b[0;34m.\u001b[0m\u001b[0mread_csv\u001b[0m\u001b[0;34m(\u001b[0m\u001b[0;34m'shoes_dataset.csv'\u001b[0m\u001b[0;34m)\u001b[0m\u001b[0;34m\u001b[0m\u001b[0;34m\u001b[0m\u001b[0m\n\u001b[0m\u001b[1;32m      2\u001b[0m \u001b[0mdata\u001b[0m\u001b[0;34m\u001b[0m\u001b[0;34m\u001b[0m\u001b[0m\n",
            "\u001b[0;32m/usr/local/lib/python3.7/dist-packages/pandas/util/_decorators.py\u001b[0m in \u001b[0;36mwrapper\u001b[0;34m(*args, **kwargs)\u001b[0m\n\u001b[1;32m    309\u001b[0m                     \u001b[0mstacklevel\u001b[0m\u001b[0;34m=\u001b[0m\u001b[0mstacklevel\u001b[0m\u001b[0;34m,\u001b[0m\u001b[0;34m\u001b[0m\u001b[0;34m\u001b[0m\u001b[0m\n\u001b[1;32m    310\u001b[0m                 )\n\u001b[0;32m--> 311\u001b[0;31m             \u001b[0;32mreturn\u001b[0m \u001b[0mfunc\u001b[0m\u001b[0;34m(\u001b[0m\u001b[0;34m*\u001b[0m\u001b[0margs\u001b[0m\u001b[0;34m,\u001b[0m \u001b[0;34m**\u001b[0m\u001b[0mkwargs\u001b[0m\u001b[0;34m)\u001b[0m\u001b[0;34m\u001b[0m\u001b[0;34m\u001b[0m\u001b[0m\n\u001b[0m\u001b[1;32m    312\u001b[0m \u001b[0;34m\u001b[0m\u001b[0m\n\u001b[1;32m    313\u001b[0m         \u001b[0;32mreturn\u001b[0m \u001b[0mwrapper\u001b[0m\u001b[0;34m\u001b[0m\u001b[0;34m\u001b[0m\u001b[0m\n",
            "\u001b[0;32m/usr/local/lib/python3.7/dist-packages/pandas/io/parsers/readers.py\u001b[0m in \u001b[0;36mread_csv\u001b[0;34m(filepath_or_buffer, sep, delimiter, header, names, index_col, usecols, squeeze, prefix, mangle_dupe_cols, dtype, engine, converters, true_values, false_values, skipinitialspace, skiprows, skipfooter, nrows, na_values, keep_default_na, na_filter, verbose, skip_blank_lines, parse_dates, infer_datetime_format, keep_date_col, date_parser, dayfirst, cache_dates, iterator, chunksize, compression, thousands, decimal, lineterminator, quotechar, quoting, doublequote, escapechar, comment, encoding, encoding_errors, dialect, error_bad_lines, warn_bad_lines, on_bad_lines, delim_whitespace, low_memory, memory_map, float_precision, storage_options)\u001b[0m\n\u001b[1;32m    584\u001b[0m     \u001b[0mkwds\u001b[0m\u001b[0;34m.\u001b[0m\u001b[0mupdate\u001b[0m\u001b[0;34m(\u001b[0m\u001b[0mkwds_defaults\u001b[0m\u001b[0;34m)\u001b[0m\u001b[0;34m\u001b[0m\u001b[0;34m\u001b[0m\u001b[0m\n\u001b[1;32m    585\u001b[0m \u001b[0;34m\u001b[0m\u001b[0m\n\u001b[0;32m--> 586\u001b[0;31m     \u001b[0;32mreturn\u001b[0m \u001b[0m_read\u001b[0m\u001b[0;34m(\u001b[0m\u001b[0mfilepath_or_buffer\u001b[0m\u001b[0;34m,\u001b[0m \u001b[0mkwds\u001b[0m\u001b[0;34m)\u001b[0m\u001b[0;34m\u001b[0m\u001b[0;34m\u001b[0m\u001b[0m\n\u001b[0m\u001b[1;32m    587\u001b[0m \u001b[0;34m\u001b[0m\u001b[0m\n\u001b[1;32m    588\u001b[0m \u001b[0;34m\u001b[0m\u001b[0m\n",
            "\u001b[0;32m/usr/local/lib/python3.7/dist-packages/pandas/io/parsers/readers.py\u001b[0m in \u001b[0;36m_read\u001b[0;34m(filepath_or_buffer, kwds)\u001b[0m\n\u001b[1;32m    480\u001b[0m \u001b[0;34m\u001b[0m\u001b[0m\n\u001b[1;32m    481\u001b[0m     \u001b[0;31m# Create the parser.\u001b[0m\u001b[0;34m\u001b[0m\u001b[0;34m\u001b[0m\u001b[0;34m\u001b[0m\u001b[0m\n\u001b[0;32m--> 482\u001b[0;31m     \u001b[0mparser\u001b[0m \u001b[0;34m=\u001b[0m \u001b[0mTextFileReader\u001b[0m\u001b[0;34m(\u001b[0m\u001b[0mfilepath_or_buffer\u001b[0m\u001b[0;34m,\u001b[0m \u001b[0;34m**\u001b[0m\u001b[0mkwds\u001b[0m\u001b[0;34m)\u001b[0m\u001b[0;34m\u001b[0m\u001b[0;34m\u001b[0m\u001b[0m\n\u001b[0m\u001b[1;32m    483\u001b[0m \u001b[0;34m\u001b[0m\u001b[0m\n\u001b[1;32m    484\u001b[0m     \u001b[0;32mif\u001b[0m \u001b[0mchunksize\u001b[0m \u001b[0;32mor\u001b[0m \u001b[0miterator\u001b[0m\u001b[0;34m:\u001b[0m\u001b[0;34m\u001b[0m\u001b[0;34m\u001b[0m\u001b[0m\n",
            "\u001b[0;32m/usr/local/lib/python3.7/dist-packages/pandas/io/parsers/readers.py\u001b[0m in \u001b[0;36m__init__\u001b[0;34m(self, f, engine, **kwds)\u001b[0m\n\u001b[1;32m    809\u001b[0m             \u001b[0mself\u001b[0m\u001b[0;34m.\u001b[0m\u001b[0moptions\u001b[0m\u001b[0;34m[\u001b[0m\u001b[0;34m\"has_index_names\"\u001b[0m\u001b[0;34m]\u001b[0m \u001b[0;34m=\u001b[0m \u001b[0mkwds\u001b[0m\u001b[0;34m[\u001b[0m\u001b[0;34m\"has_index_names\"\u001b[0m\u001b[0;34m]\u001b[0m\u001b[0;34m\u001b[0m\u001b[0;34m\u001b[0m\u001b[0m\n\u001b[1;32m    810\u001b[0m \u001b[0;34m\u001b[0m\u001b[0m\n\u001b[0;32m--> 811\u001b[0;31m         \u001b[0mself\u001b[0m\u001b[0;34m.\u001b[0m\u001b[0m_engine\u001b[0m \u001b[0;34m=\u001b[0m \u001b[0mself\u001b[0m\u001b[0;34m.\u001b[0m\u001b[0m_make_engine\u001b[0m\u001b[0;34m(\u001b[0m\u001b[0mself\u001b[0m\u001b[0;34m.\u001b[0m\u001b[0mengine\u001b[0m\u001b[0;34m)\u001b[0m\u001b[0;34m\u001b[0m\u001b[0;34m\u001b[0m\u001b[0m\n\u001b[0m\u001b[1;32m    812\u001b[0m \u001b[0;34m\u001b[0m\u001b[0m\n\u001b[1;32m    813\u001b[0m     \u001b[0;32mdef\u001b[0m \u001b[0mclose\u001b[0m\u001b[0;34m(\u001b[0m\u001b[0mself\u001b[0m\u001b[0;34m)\u001b[0m\u001b[0;34m:\u001b[0m\u001b[0;34m\u001b[0m\u001b[0;34m\u001b[0m\u001b[0m\n",
            "\u001b[0;32m/usr/local/lib/python3.7/dist-packages/pandas/io/parsers/readers.py\u001b[0m in \u001b[0;36m_make_engine\u001b[0;34m(self, engine)\u001b[0m\n\u001b[1;32m   1038\u001b[0m             )\n\u001b[1;32m   1039\u001b[0m         \u001b[0;31m# error: Too many arguments for \"ParserBase\"\u001b[0m\u001b[0;34m\u001b[0m\u001b[0;34m\u001b[0m\u001b[0;34m\u001b[0m\u001b[0m\n\u001b[0;32m-> 1040\u001b[0;31m         \u001b[0;32mreturn\u001b[0m \u001b[0mmapping\u001b[0m\u001b[0;34m[\u001b[0m\u001b[0mengine\u001b[0m\u001b[0;34m]\u001b[0m\u001b[0;34m(\u001b[0m\u001b[0mself\u001b[0m\u001b[0;34m.\u001b[0m\u001b[0mf\u001b[0m\u001b[0;34m,\u001b[0m \u001b[0;34m**\u001b[0m\u001b[0mself\u001b[0m\u001b[0;34m.\u001b[0m\u001b[0moptions\u001b[0m\u001b[0;34m)\u001b[0m  \u001b[0;31m# type: ignore[call-arg]\u001b[0m\u001b[0;34m\u001b[0m\u001b[0;34m\u001b[0m\u001b[0m\n\u001b[0m\u001b[1;32m   1041\u001b[0m \u001b[0;34m\u001b[0m\u001b[0m\n\u001b[1;32m   1042\u001b[0m     \u001b[0;32mdef\u001b[0m \u001b[0m_failover_to_python\u001b[0m\u001b[0;34m(\u001b[0m\u001b[0mself\u001b[0m\u001b[0;34m)\u001b[0m\u001b[0;34m:\u001b[0m\u001b[0;34m\u001b[0m\u001b[0;34m\u001b[0m\u001b[0m\n",
            "\u001b[0;32m/usr/local/lib/python3.7/dist-packages/pandas/io/parsers/c_parser_wrapper.py\u001b[0m in \u001b[0;36m__init__\u001b[0;34m(self, src, **kwds)\u001b[0m\n\u001b[1;32m     49\u001b[0m \u001b[0;34m\u001b[0m\u001b[0m\n\u001b[1;32m     50\u001b[0m         \u001b[0;31m# open handles\u001b[0m\u001b[0;34m\u001b[0m\u001b[0;34m\u001b[0m\u001b[0;34m\u001b[0m\u001b[0m\n\u001b[0;32m---> 51\u001b[0;31m         \u001b[0mself\u001b[0m\u001b[0;34m.\u001b[0m\u001b[0m_open_handles\u001b[0m\u001b[0;34m(\u001b[0m\u001b[0msrc\u001b[0m\u001b[0;34m,\u001b[0m \u001b[0mkwds\u001b[0m\u001b[0;34m)\u001b[0m\u001b[0;34m\u001b[0m\u001b[0;34m\u001b[0m\u001b[0m\n\u001b[0m\u001b[1;32m     52\u001b[0m         \u001b[0;32massert\u001b[0m \u001b[0mself\u001b[0m\u001b[0;34m.\u001b[0m\u001b[0mhandles\u001b[0m \u001b[0;32mis\u001b[0m \u001b[0;32mnot\u001b[0m \u001b[0;32mNone\u001b[0m\u001b[0;34m\u001b[0m\u001b[0;34m\u001b[0m\u001b[0m\n\u001b[1;32m     53\u001b[0m \u001b[0;34m\u001b[0m\u001b[0m\n",
            "\u001b[0;32m/usr/local/lib/python3.7/dist-packages/pandas/io/parsers/base_parser.py\u001b[0m in \u001b[0;36m_open_handles\u001b[0;34m(self, src, kwds)\u001b[0m\n\u001b[1;32m    227\u001b[0m             \u001b[0mmemory_map\u001b[0m\u001b[0;34m=\u001b[0m\u001b[0mkwds\u001b[0m\u001b[0;34m.\u001b[0m\u001b[0mget\u001b[0m\u001b[0;34m(\u001b[0m\u001b[0;34m\"memory_map\"\u001b[0m\u001b[0;34m,\u001b[0m \u001b[0;32mFalse\u001b[0m\u001b[0;34m)\u001b[0m\u001b[0;34m,\u001b[0m\u001b[0;34m\u001b[0m\u001b[0;34m\u001b[0m\u001b[0m\n\u001b[1;32m    228\u001b[0m             \u001b[0mstorage_options\u001b[0m\u001b[0;34m=\u001b[0m\u001b[0mkwds\u001b[0m\u001b[0;34m.\u001b[0m\u001b[0mget\u001b[0m\u001b[0;34m(\u001b[0m\u001b[0;34m\"storage_options\"\u001b[0m\u001b[0;34m,\u001b[0m \u001b[0;32mNone\u001b[0m\u001b[0;34m)\u001b[0m\u001b[0;34m,\u001b[0m\u001b[0;34m\u001b[0m\u001b[0;34m\u001b[0m\u001b[0m\n\u001b[0;32m--> 229\u001b[0;31m             \u001b[0merrors\u001b[0m\u001b[0;34m=\u001b[0m\u001b[0mkwds\u001b[0m\u001b[0;34m.\u001b[0m\u001b[0mget\u001b[0m\u001b[0;34m(\u001b[0m\u001b[0;34m\"encoding_errors\"\u001b[0m\u001b[0;34m,\u001b[0m \u001b[0;34m\"strict\"\u001b[0m\u001b[0;34m)\u001b[0m\u001b[0;34m,\u001b[0m\u001b[0;34m\u001b[0m\u001b[0;34m\u001b[0m\u001b[0m\n\u001b[0m\u001b[1;32m    230\u001b[0m         )\n\u001b[1;32m    231\u001b[0m \u001b[0;34m\u001b[0m\u001b[0m\n",
            "\u001b[0;32m/usr/local/lib/python3.7/dist-packages/pandas/io/common.py\u001b[0m in \u001b[0;36mget_handle\u001b[0;34m(path_or_buf, mode, encoding, compression, memory_map, is_text, errors, storage_options)\u001b[0m\n\u001b[1;32m    705\u001b[0m                 \u001b[0mencoding\u001b[0m\u001b[0;34m=\u001b[0m\u001b[0mioargs\u001b[0m\u001b[0;34m.\u001b[0m\u001b[0mencoding\u001b[0m\u001b[0;34m,\u001b[0m\u001b[0;34m\u001b[0m\u001b[0;34m\u001b[0m\u001b[0m\n\u001b[1;32m    706\u001b[0m                 \u001b[0merrors\u001b[0m\u001b[0;34m=\u001b[0m\u001b[0merrors\u001b[0m\u001b[0;34m,\u001b[0m\u001b[0;34m\u001b[0m\u001b[0;34m\u001b[0m\u001b[0m\n\u001b[0;32m--> 707\u001b[0;31m                 \u001b[0mnewline\u001b[0m\u001b[0;34m=\u001b[0m\u001b[0;34m\"\"\u001b[0m\u001b[0;34m,\u001b[0m\u001b[0;34m\u001b[0m\u001b[0;34m\u001b[0m\u001b[0m\n\u001b[0m\u001b[1;32m    708\u001b[0m             )\n\u001b[1;32m    709\u001b[0m         \u001b[0;32melse\u001b[0m\u001b[0;34m:\u001b[0m\u001b[0;34m\u001b[0m\u001b[0;34m\u001b[0m\u001b[0m\n",
            "\u001b[0;31mFileNotFoundError\u001b[0m: [Errno 2] No such file or directory: 'shoes_dataset.csv'"
          ]
        }
      ]
    },
    {
      "cell_type": "code",
      "source": [
        "data.shape"
      ],
      "metadata": {
        "id": "nUowaMuprcAN"
      },
      "execution_count": null,
      "outputs": []
    },
    {
      "cell_type": "code",
      "source": [
        "data.ndim"
      ],
      "metadata": {
        "id": "vMUIohCgrqTZ"
      },
      "execution_count": null,
      "outputs": []
    },
    {
      "cell_type": "code",
      "source": [
        "type(data.info())"
      ],
      "metadata": {
        "id": "p9qV0SPsrvWm"
      },
      "execution_count": null,
      "outputs": []
    },
    {
      "cell_type": "code",
      "source": [
        "data.describe() "
      ],
      "metadata": {
        "id": "IL_wCm9yrwdg"
      },
      "execution_count": null,
      "outputs": []
    },
    {
      "cell_type": "markdown",
      "source": [
        "slice"
      ],
      "metadata": {
        "id": "SF-T0Nhcr1tG"
      }
    },
    {
      "cell_type": "code",
      "source": [
        "data[\"Sale\"]"
      ],
      "metadata": {
        "id": "Ep1yI22Urzcs"
      },
      "execution_count": null,
      "outputs": []
    },
    {
      "cell_type": "code",
      "source": [
        "data[[\"Brand\", \"Sale\", \"Sneaker\" ]]"
      ],
      "metadata": {
        "id": "tXLYzq-tr-mx"
      },
      "execution_count": null,
      "outputs": []
    },
    {
      "cell_type": "markdown",
      "source": [
        "###Tarea (Base de Datos) - Parte 1"
      ],
      "metadata": {
        "id": "M-luQEK1sNEA"
      }
    },
    {
      "cell_type": "markdown",
      "source": [
        "**Por que es interesante para el grupo, esta base de datos?**\n",
        "\n",
        "Los sneakers son algo muy en tendencia hoy en dia, que la mayoria de nosotros, los jovenes, usamos bastante.\n",
        "OffWhite es una marca con mucho prestigio, dentro de este mercado, que nos llama la atencion a los dos. "
      ],
      "metadata": {
        "id": "6NtBKhjep0Ya"
      }
    },
    {
      "cell_type": "markdown",
      "source": [
        "**Detalles de la base de datos:**\n",
        "\n",
        "En esta base de datos se registran las ventas de sneakers de OFF WHITE. En esta base, se encuentran el número de orden, la fecha en la que se realiza y su ubiccación, el modelo de sneaker, el precio de retail y el de venta, por ende también hay un apartado para el profit y su porcentaje. "
      ],
      "metadata": {
        "id": "-vNC2BmcqCoH"
      }
    },
    {
      "cell_type": "markdown",
      "source": [
        "##Clase 21/09/2022"
      ],
      "metadata": {
        "id": "hU4g1VueCmON"
      }
    },
    {
      "cell_type": "markdown",
      "source": [
        "**Métodos en Pandas:**\n",
        "\n",
        "data.shape: (dimensión matriz) forma en notación matricial. (forma matrizes)\n",
        "\n",
        "data.ndim: dimensión como objeto de la matriz. \n",
        "  dimensión 2: matrizes\n",
        "  dimensión 1: vectores\n",
        "\n",
        "data.info: info. de las categorias que tiene la base de datos\n",
        "\n",
        "\n"
      ],
      "metadata": {
        "id": "bkG_cQk4_BQ0"
      }
    },
    {
      "cell_type": "code",
      "source": [
        "data.shape"
      ],
      "metadata": {
        "id": "VXk08P70Azhb"
      },
      "execution_count": null,
      "outputs": []
    },
    {
      "cell_type": "code",
      "source": [
        "data.ndim"
      ],
      "metadata": {
        "id": "UX01iXlzAxDm"
      },
      "execution_count": null,
      "outputs": []
    },
    {
      "cell_type": "markdown",
      "source": [
        "*solo en info. (data.info)\n",
        "\n",
        "(): función/clase\n",
        "\n",
        "NO (): método"
      ],
      "metadata": {
        "id": "psYJh7f7A7Tn"
      }
    },
    {
      "cell_type": "code",
      "source": [
        "data.info"
      ],
      "metadata": {
        "id": "EEEj5IqLA4EN"
      },
      "execution_count": null,
      "outputs": []
    },
    {
      "cell_type": "code",
      "source": [
        "data.info()"
      ],
      "metadata": {
        "id": "ETCfzaXlAUzD"
      },
      "execution_count": null,
      "outputs": []
    },
    {
      "cell_type": "markdown",
      "source": [
        "type = mas especifico"
      ],
      "metadata": {
        "id": "v8MEEI45BnKH"
      }
    },
    {
      "cell_type": "code",
      "source": [
        "type(data.info())"
      ],
      "metadata": {
        "id": "8MV1oFvbBTN7"
      },
      "execution_count": null,
      "outputs": []
    },
    {
      "cell_type": "markdown",
      "source": [
        "data.describe: info. estadistica descriptiva de la base de datos. "
      ],
      "metadata": {
        "id": "f_TAI0hVCMAj"
      }
    },
    {
      "cell_type": "code",
      "source": [
        "data.describe()"
      ],
      "metadata": {
        "id": "FZ5VRiq9CYT4"
      },
      "execution_count": null,
      "outputs": []
    },
    {
      "cell_type": "markdown",
      "source": [
        "data.slices: (pedazos) \"ver rebanadas/porciones\" de la base de datos, por separado. \n",
        "\n",
        "data[lo que quieras mostrar] OJO: []\n",
        "\n",
        "DOS [[]] : mostrar mas de una columna o cosa. "
      ],
      "metadata": {
        "id": "Ayz18XpdC3nz"
      }
    },
    {
      "cell_type": "code",
      "source": [
        "data[\"Sneaker\"]"
      ],
      "metadata": {
        "id": "o06OCacqDJK9"
      },
      "execution_count": null,
      "outputs": []
    },
    {
      "cell_type": "code",
      "source": [
        "data[[\"Sneaker\", \"Brand\", \"Sale\" ]]"
      ],
      "metadata": {
        "id": "tcN7JNCTEDBG"
      },
      "execution_count": null,
      "outputs": []
    },
    {
      "cell_type": "markdown",
      "source": [
        "head = muestra renglones (#)\n",
        "(si no pones numero (), se muestran los primeros 5)"
      ],
      "metadata": {
        "id": "zf3aCuX1F-H-"
      }
    },
    {
      "cell_type": "code",
      "source": [
        "data.head(9)"
      ],
      "metadata": {
        "id": "isGqVggpF62u"
      },
      "execution_count": null,
      "outputs": []
    },
    {
      "cell_type": "markdown",
      "source": [
        "iloc = \"index location\"\n",
        "\n",
        "  iloc [indice]\n",
        "  * pudes poner #:# de tal a tal)\n",
        "\n",
        "( te pone la info. como serie )\n",
        "\n"
      ],
      "metadata": {
        "id": "RmW7CrFDGcPd"
      }
    },
    {
      "cell_type": "code",
      "source": [
        "data.iloc[1]"
      ],
      "metadata": {
        "id": "u_j5RZCOGluD"
      },
      "execution_count": null,
      "outputs": []
    },
    {
      "cell_type": "code",
      "source": [
        "type(data.iloc[1])"
      ],
      "metadata": {
        "id": "0HIzH2AnG6GJ"
      },
      "execution_count": null,
      "outputs": []
    },
    {
      "cell_type": "code",
      "source": [
        "data.iloc[2:6]"
      ],
      "metadata": {
        "id": "3qjB_0V9HPDT"
      },
      "execution_count": null,
      "outputs": []
    },
    {
      "cell_type": "markdown",
      "source": [
        "data.iloc = data.head\n",
        "(hacen basicamente lo mismo, para cosas m[as especificas usas ILOC)"
      ],
      "metadata": {
        "id": "4ztWow8DHfnK"
      }
    },
    {
      "cell_type": "code",
      "source": [
        "data.iloc[0:1]"
      ],
      "metadata": {
        "id": "VIMaGKhIIEno"
      },
      "execution_count": null,
      "outputs": []
    },
    {
      "cell_type": "code",
      "source": [
        "data.head(1)"
      ],
      "metadata": {
        "id": "UHNwcqaWIIG-"
      },
      "execution_count": null,
      "outputs": []
    },
    {
      "cell_type": "markdown",
      "source": [
        "###Tarea (Base de Datos) - Parte 2"
      ],
      "metadata": {
        "id": "7rmuNHqssY3F"
      }
    },
    {
      "cell_type": "markdown",
      "source": [
        "1. Realiza un análisis descriptivo de tu base de datos.\n",
        "\n",
        "2. ¿Qué tipo de análisis estadístico deseas analizar? \n",
        "\n",
        "3. Enumera los distintos tipos de objetos que hay en tu base de datos: ¿qué columnas contienen datos numéricos? ¿qué columnas contienen datos categóricos?\n",
        "\n",
        "4. Toma una columna que tenga datos **no nulos** numéricos y da una descripción estadística.\n",
        "\n",
        "5. Elige dos columnas que contengan datos numéricos. A partir de esta subbase de datos, elige los primeros 20 elementos. Realiza nuevamente un análisis descriptivo de esta nueva subbase (escribe brevemente la importancia de tu elección).\n",
        "\n",
        "6. La siguiente celda contiene un ejemplo de cómo realizar un *boxplot*. ¿Qué representa este tipo de gráficas? Realiza una gráfica *boxplot* con la subbase del punto anterior."
      ],
      "metadata": {
        "id": "X6W7zT6TsuDt"
      }
    },
    {
      "cell_type": "markdown",
      "source": [
        "###1."
      ],
      "metadata": {
        "id": "AVlNWD4-s06Z"
      }
    },
    {
      "cell_type": "markdown",
      "source": [
        "Análisis Descriptivo de la Base de Datos:\n",
        "\n",
        "Esta base de datos es una versión resumida y un poco más pequeña de la base de datos de la venta de tennis (sneakers) de \"StockX.com\" . Incluye los valores y precios de reatil y reventas de los sneakers de marcas como Nike y Yeezy's en el sitio de StockX desde 2017 a 2019. "
      ],
      "metadata": {
        "id": "ziYMOdVwtE-a"
      }
    },
    {
      "cell_type": "code",
      "source": [
        "data.describe()"
      ],
      "metadata": {
        "id": "5CvZALo15cFA"
      },
      "execution_count": null,
      "outputs": []
    },
    {
      "cell_type": "markdown",
      "source": [
        "###2."
      ],
      "metadata": {
        "id": "elh8EibVs1DO"
      }
    },
    {
      "cell_type": "markdown",
      "source": [
        "Tipo de análisis estadístico que deseamos analizar: \n",
        "En este caso, para esta base de datos, nos queremos enfocar en un **análisis de datos exploratorio**, \n",
        "lo que buscamos al hacer este tipo de análisis es que tras haber analizado la infromación poder detectar detectar características concretas o anormales de la base de datos de las ventas en los diferentes periodos de tiempo.\n",
        "Con un análisis esxploratorio, podremos ver la tendencia de cada uno de los indicadores y ver el comportamiento en cada uno de ellos. Un ejemplo para lo que nos puede servir este tipo de análisis, sería para ver que modelo de sneakers se esta vendiendo mejor, cuál se vende menos, en que lugares se hacen más pedidos, entre muchas otras. "
      ],
      "metadata": {
        "id": "_EK90vT4tN9Z"
      }
    },
    {
      "cell_type": "markdown",
      "source": [
        "###3."
      ],
      "metadata": {
        "id": "wO5GWxU2s1JF"
      }
    },
    {
      "cell_type": "code",
      "source": [
        "type(data.info())"
      ],
      "metadata": {
        "id": "4_6j18DOxLxO"
      },
      "execution_count": null,
      "outputs": []
    },
    {
      "cell_type": "markdown",
      "source": [
        "###4."
      ],
      "metadata": {
        "id": "WYh5hVems1zV"
      }
    },
    {
      "cell_type": "markdown",
      "source": [
        "Elegimos la clumna de VENTAS = **\"Sale\"**"
      ],
      "metadata": {
        "id": "e5ESGYwj9oW8"
      }
    },
    {
      "cell_type": "code",
      "source": [
        "data [\"Sale\"]\n"
      ],
      "metadata": {
        "id": "-g8fWV3-xwIT"
      },
      "execution_count": null,
      "outputs": []
    },
    {
      "cell_type": "markdown",
      "source": [
        "###5."
      ],
      "metadata": {
        "id": "N5eOn4jps14Z"
      }
    },
    {
      "cell_type": "code",
      "source": [
        "data1 = data[[\"Retail\", \"Profit\" ]]\n",
        "data1"
      ],
      "metadata": {
        "id": "r06TEVsjzBfl"
      },
      "execution_count": null,
      "outputs": []
    },
    {
      "cell_type": "code",
      "source": [
        "data1.iloc[0:21]"
      ],
      "metadata": {
        "id": "cClLXx5I0vbS"
      },
      "execution_count": null,
      "outputs": []
    },
    {
      "cell_type": "code",
      "source": [
        "type(data1.info())"
      ],
      "metadata": {
        "id": "FBoSTI3i09NE"
      },
      "execution_count": null,
      "outputs": []
    },
    {
      "cell_type": "markdown",
      "source": [
        "Elección de la subbase (data1):\n",
        "Al tener que elegir únicamente collumnas con datos númericos, nos quedaban pocas opciones, de las cuales elegimos: \"Retail\" y \"Profit\", las cuales escogimos ya que nos parecen dos rubros escenciales en la base de datos, ya que muestran en sí lo que se obtuvo de las ventas y tu costo del canal de venta. \n"
      ],
      "metadata": {
        "id": "abHm2Jv30_xz"
      }
    },
    {
      "cell_type": "markdown",
      "source": [
        "###6."
      ],
      "metadata": {
        "id": "Xp7XezcZs2DU"
      }
    },
    {
      "cell_type": "markdown",
      "source": [
        "Boxplot: Un \"BoxPlot\", que también puede ser conocido como \"Whisker plot\" se utiliza para mostrar el resumen del conjunto de valores de datos que tienen propiedades como mínimo, primer cuartil, mediana, tercer cuartil y máximo. En el BoxPlot, se crea una caja desde el primer cuartil hasta el tercer cuartil, también hay una línea vertical que pasa a través de la caja en la mediana. El eje \"x\" representa los datos que se trazan, y el eje \"y\" muestra la distribución de frecuencia."
      ],
      "metadata": {
        "id": "MDqyteZr1pq4"
      }
    },
    {
      "cell_type": "code",
      "source": [
        "import numpy as np \n",
        "import pandas as pd\n",
        "\n",
        "\n",
        "np.random.seed(1234)\n",
        "df = pd.DataFrame(data1, columns = ['Retail', 'Profit'])\n",
        "boxplot = df.boxplot(column=['Retail', 'Profit'])"
      ],
      "metadata": {
        "id": "e1lMkAKpshQe"
      },
      "execution_count": null,
      "outputs": []
    },
    {
      "cell_type": "markdown",
      "source": [
        "##Conclusiones:"
      ],
      "metadata": {
        "id": "cNA0r73cgdOm"
      }
    },
    {
      "cell_type": "markdown",
      "source": [
        "Con este anális podemos concluir que el \"profit\", o la ganancia que tiene \"StockX.com\", es bastante buena, ya que a compración de su \"retail\", en casi toda sus ventas es mayor al 70%. Con el que podemos decir que tienen un muy buen margen de acción lo que es un índice muy bueno para la empresa. "
      ],
      "metadata": {
        "id": "VfcVNhj-ggZE"
      }
    },
    {
      "cell_type": "markdown",
      "source": [
        "BOXPLOT: las bolitas que salen de la caja = son OUTLIERS\n",
        "\n",
        "los palitos de arriba y abajo = BIGOTES"
      ],
      "metadata": {
        "id": "OqWr7bicyXnn"
      }
    },
    {
      "cell_type": "markdown",
      "source": [
        "MEDIANA : dato en el agrupado del 50%\n",
        "\n",
        "MIN: (bigote)\n",
        "Primer Cuartil: datos agrupados en el primer cuartil (25%). \n",
        "\n",
        "MEDIANA y Segundo Cuartil: dato en el agrupado del 50%.\n",
        "\n",
        "Tercer Cuartil: datos en el tercer cuartil (75%). (bigote)\n",
        "\n",
        "Cuarto Cuartil y MAX: 100%"
      ],
      "metadata": {
        "id": "jezqrLyDyiTM"
      }
    },
    {
      "cell_type": "code",
      "source": [
        "df[\"Retail\"].describe()"
      ],
      "metadata": {
        "id": "_XVtHGULzvFM"
      },
      "execution_count": null,
      "outputs": []
    },
    {
      "cell_type": "markdown",
      "source": [
        ".replace(\"...\",\"...\") = primer \" ...\" , lo que quieres reemplazar y en el segundo \"...\", pones por lo que lo vas a reemplazar. "
      ],
      "metadata": {
        "id": "EBcKU3UU1sPh"
      }
    },
    {
      "cell_type": "markdown",
      "source": [
        ".astype (va despues del .replace(\"...\",\"...\")), e indicas el tipo que quieres, ej: float. \n",
        "\n",
        ".astype(float)"
      ],
      "metadata": {
        "id": "nUFw7ytm171K"
      }
    },
    {
      "cell_type": "code",
      "source": [
        "data1.sort_values(\"Retail\", ascending = True).head (20)"
      ],
      "metadata": {
        "id": "ixu1VbEDudTD"
      },
      "execution_count": null,
      "outputs": []
    },
    {
      "cell_type": "markdown",
      "source": [
        "ascending = True (ascendente)\n",
        "ascending False (descendente)"
      ],
      "metadata": {
        "id": "oJO8tlk5w0kb"
      }
    },
    {
      "cell_type": "code",
      "source": [
        "data1.sort_values(\"Retail\", ascending = False).head (20)"
      ],
      "metadata": {
        "id": "4-cicmRlxcd8"
      },
      "execution_count": null,
      "outputs": []
    },
    {
      "cell_type": "code",
      "source": [
        "data.drop(columns = \"Retail\")"
      ],
      "metadata": {
        "id": "dKvDC9Qsxr_y"
      },
      "execution_count": null,
      "outputs": []
    },
    {
      "cell_type": "markdown",
      "source": [
        "drop = eliminar/quitar columnas"
      ],
      "metadata": {
        "id": "SRiPWIjeyJnC"
      }
    },
    {
      "cell_type": "code",
      "source": [
        "data1 = data[[\"Retail\", \"Profit\" ]].head (20)"
      ],
      "metadata": {
        "id": "d-EZIQPa1F4k"
      },
      "execution_count": null,
      "outputs": []
    },
    {
      "cell_type": "code",
      "source": [
        "data2 = data[[\"Sneaker\", \"Brand\" ]]. head (20)\n",
        "data2 "
      ],
      "metadata": {
        "id": "kdeN16e-yMak"
      },
      "execution_count": null,
      "outputs": []
    },
    {
      "cell_type": "code",
      "source": [
        "pd.concat([data1, data2], axis = 1)"
      ],
      "metadata": {
        "id": "ZuZukABe0S0p"
      },
      "execution_count": null,
      "outputs": []
    },
    {
      "cell_type": "markdown",
      "source": [
        "concat = juntas dataframes\n",
        "\n",
        "axis = 1 (pega las columnas, a lado)\n",
        "axis = 0 (los pega abajo, por renglones)"
      ],
      "metadata": {
        "id": "5ko4XoHM1XuJ"
      }
    },
    {
      "cell_type": "code",
      "source": [
        "data1 [\"Retail\"] > 200"
      ],
      "metadata": {
        "id": "TBJmvrcM1t82"
      },
      "execution_count": null,
      "outputs": []
    },
    {
      "cell_type": "code",
      "source": [
        "data1[data1 [\"Retail\"] > 200]"
      ],
      "metadata": {
        "id": "m3JJPPcC2lVk"
      },
      "execution_count": null,
      "outputs": []
    },
    {
      "cell_type": "markdown",
      "source": [
        "data1[data 1 = te da la info en formato de un dataframe, no solo te dice \"true\" o \"false\", como en data1 nada mas. "
      ],
      "metadata": {
        "id": "fEZ4Oh7j3f6E"
      }
    }
  ]
}