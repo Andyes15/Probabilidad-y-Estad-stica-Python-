{
  "nbformat": 4,
  "nbformat_minor": 0,
  "metadata": {
    "colab": {
      "provenance": []
    },
    "kernelspec": {
      "name": "python3",
      "display_name": "Python 3"
    },
    "language_info": {
      "name": "python"
    }
  },
  "cells": [
    {
      "cell_type": "markdown",
      "source": [
        "#Ejercicio de Clase\n",
        "##Andrea Espindola Macias \n",
        "###ID: 0243394"
      ],
      "metadata": {
        "id": "OmGTjqbmuEe9"
      }
    },
    {
      "cell_type": "code",
      "source": [
        "import numpy as np\n",
        "import pandas as pd\n",
        "import matplotlib.pyplot as plt\n",
        "import seaborn as sns\n",
        "import statsmodels.api as sm\n",
        "import statsmodels.formula.api as smf"
      ],
      "metadata": {
        "id": "DiyZvFqJuO1b"
      },
      "execution_count": 1,
      "outputs": []
    },
    {
      "cell_type": "code",
      "source": [
        "x = np.array([1,2,3,4,5,6,7,8,9,10])  \n",
        "y = np.array([2,6,4,8,6,10,8,12,10,14])"
      ],
      "metadata": {
        "id": "3aeRR5kwubR3"
      },
      "execution_count": 2,
      "outputs": []
    },
    {
      "cell_type": "code",
      "source": [
        "plt.scatter(x,y, marker = '.')\n",
        "plt.xlim(0,10)\n",
        "plt.ylim(0,20)\n",
        "plt.show()"
      ],
      "metadata": {
        "colab": {
          "base_uri": "https://localhost:8080/",
          "height": 269
        },
        "id": "RuiRFeFCu4ta",
        "outputId": "07e58d6e-347a-4e18-8b1f-8bdb8d518053"
      },
      "execution_count": 3,
      "outputs": [
        {
          "output_type": "display_data",
          "data": {
            "text/plain": [
              "<Figure size 432x288 with 1 Axes>"
            ],
            "image/png": "[encoded data removed]"
          },
          "metadata": {
            "needs_background": "light"
          }
        }
      ]
    },
    {
      "cell_type": "code",
      "source": [
        "DF = pd.DataFrame({'x':x, 'y':y})\n",
        "print(DF)"
      ],
      "metadata": {
        "colab": {
          "base_uri": "https://localhost:8080/"
        },
        "id": "Ou3iQJLnvGNa",
        "outputId": "1293f7c4-0b2a-426a-9d75-a57f405934c1"
      },
      "execution_count": 5,
      "outputs": [
        {
          "output_type": "stream",
          "name": "stdout",
          "text": [
            "    x   y\n",
            "0   1   2\n",
            "1   2   6\n",
            "2   3   4\n",
            "3   4   8\n",
            "4   5   6\n",
            "5   6  10\n",
            "6   7   8\n",
            "7   8  12\n",
            "8   9  10\n",
            "9  10  14\n"
          ]
        }
      ]
    },
    {
      "cell_type": "code",
      "source": [
        "sns.lmplot(x = 'x', y = 'y', data = DF)"
      ],
      "metadata": {
        "colab": {
          "base_uri": "https://localhost:8080/",
          "height": 386
        },
        "id": "Tws_qho4vPBU",
        "outputId": "b5199f4e-3415-4250-c610-194f2186a2e4"
      },
      "execution_count": 6,
      "outputs": [
        {
          "output_type": "execute_result",
          "data": {
            "text/plain": [
              "<seaborn.axisgrid.FacetGrid at 0x7f5a940a5990>"
            ]
          },
          "metadata": {},
          "execution_count": 6
        },
        {
          "output_type": "display_data",
          "data": {
            "text/plain": [
              "<Figure size 360x360 with 1 Axes>"
            ],
            "image/png": "[encoded data removed]"
          },
          "metadata": {
            "needs_background": "light"
          }
        }
      ]
    },
    {
      "cell_type": "code",
      "source": [
        "model = smf.ols('y ~ x', data = DF)"
      ],
      "metadata": {
        "id": "Yrcbv-r_vTNE"
      },
      "execution_count": 8,
      "outputs": []
    },
    {
      "cell_type": "code",
      "source": [
        "results = model.fit()"
      ],
      "metadata": {
        "id": "lfn4ut1jv1T2"
      },
      "execution_count": 9,
      "outputs": []
    },
    {
      "cell_type": "code",
      "source": [
        "print(results.summary()) "
      ],
      "metadata": {
        "colab": {
          "base_uri": "https://localhost:8080/"
        },
        "id": "DrdsLv6-v5Zt",
        "outputId": "0a5875f5-a139-4ec5-dcd0-56c4c597b811"
      },
      "execution_count": 10,
      "outputs": [
        {
          "output_type": "stream",
          "name": "stdout",
          "text": [
            "                            OLS Regression Results                            \n",
            "==============================================================================\n",
            "Dep. Variable:                      y   R-squared:                       0.818\n",
            "Model:                            OLS   Adj. R-squared:                  0.795\n",
            "Method:                 Least Squares   F-statistic:                     36.00\n",
            "Date:                Wed, 16 Nov 2022   Prob (F-statistic):           0.000323\n",
            "Time:                        18:42:21   Log-Likelihood:                -18.090\n",
            "No. Observations:                  10   AIC:                             40.18\n",
            "Df Residuals:                       8   BIC:                             40.79\n",
            "Df Model:                           1                                         \n",
            "Covariance Type:            nonrobust                                         \n",
            "==============================================================================\n",
            "                 coef    std err          t      P>|t|      [0.025      0.975]\n",
            "------------------------------------------------------------------------------\n",
            "Intercept      2.0000      1.128      1.773      0.114      -0.602       4.602\n",
            "x              1.0909      0.182      6.000      0.000       0.672       1.510\n",
            "==============================================================================\n",
            "Omnibus:                        8.773   Durbin-Watson:                   3.691\n",
            "Prob(Omnibus):                  0.012   Jarque-Bera (JB):                1.476\n",
            "Skew:                           0.000   Prob(JB):                        0.478\n",
            "Kurtosis:                       1.118   Cond. No.                         13.7\n",
            "==============================================================================\n",
            "\n",
            "Notes:\n",
            "[1] Standard Errors assume that the covariance matrix of the errors is correctly specified.\n"
          ]
        },
        {
          "output_type": "stream",
          "name": "stderr",
          "text": [
            "/usr/local/lib/python3.7/dist-packages/scipy/stats/stats.py:1542: UserWarning: kurtosistest only valid for n>=20 ... continuing anyway, n=10\n",
            "  \"anyway, n=%i\" % int(n))\n"
          ]
        }
      ]
    },
    {
      "cell_type": "code",
      "source": [
        "sm.graphics.abline_plot(model_results = results)\n",
        "plt.scatter(DF.x, DF.y)\n",
        "\n",
        "plt.xlim(0,10)\n",
        "plt.ylim(0,20)\n",
        "\n",
        "plt.show()"
      ],
      "metadata": {
        "colab": {
          "base_uri": "https://localhost:8080/",
          "height": 269
        },
        "id": "6RZ_mhqyv-R_",
        "outputId": "46b7c0dd-30a9-41d7-d76a-65cd53248b50"
      },
      "execution_count": 11,
      "outputs": [
        {
          "output_type": "display_data",
          "data": {
            "text/plain": [
              "<Figure size 432x288 with 1 Axes>"
            ],
            "image/png": "[encoded data removed]"
          },
          "metadata": {
            "needs_background": "light"
          }
        }
      ]
    },
    {
      "cell_type": "markdown",
      "source": [
        "Numpy Array Notation"
      ],
      "metadata": {
        "id": "pCrhL13pwYlj"
      }
    },
    {
      "cell_type": "code",
      "source": [
        "print(x)"
      ],
      "metadata": {
        "colab": {
          "base_uri": "https://localhost:8080/"
        },
        "id": "WHy8UQMEwHwx",
        "outputId": "1f935027-0286-4955-8cd9-7b4dede3f1ae"
      },
      "execution_count": 12,
      "outputs": [
        {
          "output_type": "stream",
          "name": "stdout",
          "text": [
            "[ 1  2  3  4  5  6  7  8  9 10]\n"
          ]
        }
      ]
    },
    {
      "cell_type": "code",
      "source": [
        "X = sm.add_constant(x) \n",
        "X"
      ],
      "metadata": {
        "colab": {
          "base_uri": "https://localhost:8080/"
        },
        "id": "eXq7OKthwdq3",
        "outputId": "93a67713-8bfa-4d1e-e8ab-8f08cf1c44e5"
      },
      "execution_count": 13,
      "outputs": [
        {
          "output_type": "execute_result",
          "data": {
            "text/plain": [
              "array([[ 1.,  1.],\n",
              "       [ 1.,  2.],\n",
              "       [ 1.,  3.],\n",
              "       [ 1.,  4.],\n",
              "       [ 1.,  5.],\n",
              "       [ 1.,  6.],\n",
              "       [ 1.,  7.],\n",
              "       [ 1.,  8.],\n",
              "       [ 1.,  9.],\n",
              "       [ 1., 10.]])"
            ]
          },
          "metadata": {},
          "execution_count": 13
        }
      ]
    },
    {
      "cell_type": "code",
      "source": [
        "model2 = sm.OLS(y, X) "
      ],
      "metadata": {
        "id": "ZdFEP7N1wkEx"
      },
      "execution_count": 14,
      "outputs": []
    },
    {
      "cell_type": "code",
      "source": [
        "results2 = model2.fit()"
      ],
      "metadata": {
        "id": "fs_JqBIKwmPi"
      },
      "execution_count": 15,
      "outputs": []
    },
    {
      "cell_type": "code",
      "source": [
        "print(results2.summary())"
      ],
      "metadata": {
        "colab": {
          "base_uri": "https://localhost:8080/"
        },
        "id": "JFpV1Nhrwp8g",
        "outputId": "28de524e-c43a-41e1-c7fd-86e915801b6b"
      },
      "execution_count": 16,
      "outputs": [
        {
          "output_type": "stream",
          "name": "stdout",
          "text": [
            "                            OLS Regression Results                            \n",
            "==============================================================================\n",
            "Dep. Variable:                      y   R-squared:                       0.818\n",
            "Model:                            OLS   Adj. R-squared:                  0.795\n",
            "Method:                 Least Squares   F-statistic:                     36.00\n",
            "Date:                Wed, 16 Nov 2022   Prob (F-statistic):           0.000323\n",
            "Time:                        18:45:32   Log-Likelihood:                -18.090\n",
            "No. Observations:                  10   AIC:                             40.18\n",
            "Df Residuals:                       8   BIC:                             40.79\n",
            "Df Model:                           1                                         \n",
            "Covariance Type:            nonrobust                                         \n",
            "==============================================================================\n",
            "                 coef    std err          t      P>|t|      [0.025      0.975]\n",
            "------------------------------------------------------------------------------\n",
            "const          2.0000      1.128      1.773      0.114      -0.602       4.602\n",
            "x1             1.0909      0.182      6.000      0.000       0.672       1.510\n",
            "==============================================================================\n",
            "Omnibus:                        8.773   Durbin-Watson:                   3.691\n",
            "Prob(Omnibus):                  0.012   Jarque-Bera (JB):                1.476\n",
            "Skew:                           0.000   Prob(JB):                        0.478\n",
            "Kurtosis:                       1.118   Cond. No.                         13.7\n",
            "==============================================================================\n",
            "\n",
            "Notes:\n",
            "[1] Standard Errors assume that the covariance matrix of the errors is correctly specified.\n"
          ]
        },
        {
          "output_type": "stream",
          "name": "stderr",
          "text": [
            "/usr/local/lib/python3.7/dist-packages/scipy/stats/stats.py:1542: UserWarning: kurtosistest only valid for n>=20 ... continuing anyway, n=10\n",
            "  \"anyway, n=%i\" % int(n))\n"
          ]
        }
      ]
    },
    {
      "cell_type": "markdown",
      "source": [
        "Plot Interaction of Categorical Factors"
      ],
      "metadata": {
        "id": "IMpf5A5KwxQ_"
      }
    },
    {
      "cell_type": "code",
      "source": [
        "import pandas as pd\n",
        "from statsmodels.formula.api import ols\n",
        "\n",
        "Consumption = [51, 52, 53, 54, 56, 57, 55, 56, 58, 59, 62, 63]\n",
        "Gender  = [\"Male\", \"Male\", \"Male\", \"Male\", \"Male\", \"Male\", \"Female\",\n",
        "           \"Female\", \"Female\", \"Female\", \"Female\", \"Female\"]\n",
        "Income = [80, 80, 90, 90, 100, 100, 80, 80, 90, 90, 100, 100]\n",
        "\n",
        "df = pd.DataFrame( {\"Consumption\": Consumption, \"Gender\": Gender, \"Income\": Income})\n",
        "print(df)"
      ],
      "metadata": {
        "colab": {
          "base_uri": "https://localhost:8080/"
        },
        "id": "HSq6BVg1wsUs",
        "outputId": "33ec43bd-fe3c-4506-aa2c-8c9f3b906711"
      },
      "execution_count": 17,
      "outputs": [
        {
          "output_type": "stream",
          "name": "stdout",
          "text": [
            "    Consumption  Gender  Income\n",
            "0            51    Male      80\n",
            "1            52    Male      80\n",
            "2            53    Male      90\n",
            "3            54    Male      90\n",
            "4            56    Male     100\n",
            "5            57    Male     100\n",
            "6            55  Female      80\n",
            "7            56  Female      80\n",
            "8            58  Female      90\n",
            "9            59  Female      90\n",
            "10           62  Female     100\n",
            "11           63  Female     100\n"
          ]
        }
      ]
    },
    {
      "cell_type": "code",
      "source": [
        "Reg = ols(formula = \"Consumption ~ Gender + Income\", data = df )\n",
        "Fit = Reg.fit()\n",
        "Fit.summary()"
      ],
      "metadata": {
        "colab": {
          "base_uri": "https://localhost:8080/",
          "height": 533
        },
        "id": "Ofbz62SuxDLN",
        "outputId": "c17eb8a5-35d5-4044-b6ff-0518a2ee2141"
      },
      "execution_count": 18,
      "outputs": [
        {
          "output_type": "stream",
          "name": "stderr",
          "text": [
            "/usr/local/lib/python3.7/dist-packages/scipy/stats/stats.py:1542: UserWarning: kurtosistest only valid for n>=20 ... continuing anyway, n=12\n",
            "  \"anyway, n=%i\" % int(n))\n"
          ]
        },
        {
          "output_type": "execute_result",
          "data": {
            "text/plain": [
              "<class 'statsmodels.iolib.summary.Summary'>\n",
              "\"\"\"\n",
              "                            OLS Regression Results                            \n",
              "==============================================================================\n",
              "Dep. Variable:            Consumption   R-squared:                       0.963\n",
              "Model:                            OLS   Adj. R-squared:                  0.955\n",
              "Method:                 Least Squares   F-statistic:                     116.7\n",
              "Date:                Wed, 16 Nov 2022   Prob (F-statistic):           3.66e-07\n",
              "Time:                        18:48:13   Log-Likelihood:                -12.525\n",
              "No. Observations:                  12   AIC:                             31.05\n",
              "Df Residuals:                       9   BIC:                             32.51\n",
              "Df Model:                           2                                         \n",
              "Covariance Type:            nonrobust                                         \n",
              "==================================================================================\n",
              "                     coef    std err          t      P>|t|      [0.025      0.975]\n",
              "----------------------------------------------------------------------------------\n",
              "Intercept         31.8333      2.546     12.505      0.000      26.075      37.592\n",
              "Gender[T.Male]    -5.0000      0.458    -10.914      0.000      -6.036      -3.964\n",
              "Income             0.3000      0.028     10.694      0.000       0.237       0.363\n",
              "==============================================================================\n",
              "Omnibus:                        0.407   Durbin-Watson:                   2.294\n",
              "Prob(Omnibus):                  0.816   Jarque-Bera (JB):                0.503\n",
              "Skew:                           0.228   Prob(JB):                        0.778\n",
              "Kurtosis:                       2.107   Cond. No.                     1.00e+03\n",
              "==============================================================================\n",
              "\n",
              "Notes:\n",
              "[1] Standard Errors assume that the covariance matrix of the errors is correctly specified.\n",
              "[2] The condition number is large,  1e+03. This might indicate that there are\n",
              "strong multicollinearity or other numerical problems.\n",
              "\"\"\""
            ],
            "text/html": [
              "<table class=\"simpletable\">\n",
              "<caption>OLS Regression Results</caption>\n",
              "<tr>\n",
              "  <th>Dep. Variable:</th>       <td>Consumption</td>   <th>  R-squared:         </th> <td>   0.963</td>\n",
              "</tr>\n",
              "<tr>\n",
              "  <th>Model:</th>                   <td>OLS</td>       <th>  Adj. R-squared:    </th> <td>   0.955</td>\n",
              "</tr>\n",
              "<tr>\n",
              "  <th>Method:</th>             <td>Least Squares</td>  <th>  F-statistic:       </th> <td>   116.7</td>\n",
              "</tr>\n",
              "<tr>\n",
              "  <th>Date:</th>             <td>Wed, 16 Nov 2022</td> <th>  Prob (F-statistic):</th> <td>3.66e-07</td>\n",
              "</tr>\n",
              "<tr>\n",
              "  <th>Time:</th>                 <td>18:48:13</td>     <th>  Log-Likelihood:    </th> <td> -12.525</td>\n",
              "</tr>\n",
              "<tr>\n",
              "  <th>No. Observations:</th>      <td>    12</td>      <th>  AIC:               </th> <td>   31.05</td>\n",
              "</tr>\n",
              "<tr>\n",
              "  <th>Df Residuals:</th>          <td>     9</td>      <th>  BIC:               </th> <td>   32.51</td>\n",
              "</tr>\n",
              "<tr>\n",
              "  <th>Df Model:</th>              <td>     2</td>      <th>                     </th>     <td> </td>   \n",
              "</tr>\n",
              "<tr>\n",
              "  <th>Covariance Type:</th>      <td>nonrobust</td>    <th>                     </th>     <td> </td>   \n",
              "</tr>\n",
              "</table>\n",
              "<table class=\"simpletable\">\n",
              "<tr>\n",
              "         <td></td>           <th>coef</th>     <th>std err</th>      <th>t</th>      <th>P>|t|</th>  <th>[0.025</th>    <th>0.975]</th>  \n",
              "</tr>\n",
              "<tr>\n",
              "  <th>Intercept</th>      <td>   31.8333</td> <td>    2.546</td> <td>   12.505</td> <td> 0.000</td> <td>   26.075</td> <td>   37.592</td>\n",
              "</tr>\n",
              "<tr>\n",
              "  <th>Gender[T.Male]</th> <td>   -5.0000</td> <td>    0.458</td> <td>  -10.914</td> <td> 0.000</td> <td>   -6.036</td> <td>   -3.964</td>\n",
              "</tr>\n",
              "<tr>\n",
              "  <th>Income</th>         <td>    0.3000</td> <td>    0.028</td> <td>   10.694</td> <td> 0.000</td> <td>    0.237</td> <td>    0.363</td>\n",
              "</tr>\n",
              "</table>\n",
              "<table class=\"simpletable\">\n",
              "<tr>\n",
              "  <th>Omnibus:</th>       <td> 0.407</td> <th>  Durbin-Watson:     </th> <td>   2.294</td>\n",
              "</tr>\n",
              "<tr>\n",
              "  <th>Prob(Omnibus):</th> <td> 0.816</td> <th>  Jarque-Bera (JB):  </th> <td>   0.503</td>\n",
              "</tr>\n",
              "<tr>\n",
              "  <th>Skew:</th>          <td> 0.228</td> <th>  Prob(JB):          </th> <td>   0.778</td>\n",
              "</tr>\n",
              "<tr>\n",
              "  <th>Kurtosis:</th>      <td> 2.107</td> <th>  Cond. No.          </th> <td>1.00e+03</td>\n",
              "</tr>\n",
              "</table><br/><br/>Notes:<br/>[1] Standard Errors assume that the covariance matrix of the errors is correctly specified.<br/>[2] The condition number is large,  1e+03. This might indicate that there are<br/>strong multicollinearity or other numerical problems."
            ]
          },
          "metadata": {},
          "execution_count": 18
        }
      ]
    }
  ]
}