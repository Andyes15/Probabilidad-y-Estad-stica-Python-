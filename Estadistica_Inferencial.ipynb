{
  "nbformat": 4,
  "nbformat_minor": 0,
  "metadata": {
    "colab": {
      "provenance": []
    },
    "kernelspec": {
      "name": "python3",
      "display_name": "Python 3"
    },
    "language_info": {
      "name": "python"
    }
  },
  "cells": [
    {
      "cell_type": "markdown",
      "source": [
        "#Estadistica Inferencial (MACHINE lEARNING)\n",
        "\n",
        "Inferir medidas asociadas a un conjunto de datos.\n",
        "\n",
        "  MODELOS ESTADISTICOS\n",
        "\n",
        "    . Predecir comportamientos\n",
        "    \n",
        "    . Toma decisiones"
      ],
      "metadata": {
        "id": "UoxCWhSLDsfO"
      }
    },
    {
      "cell_type": "markdown",
      "source": [
        "##Idea General:\n",
        "\n",
        "Poblacion - se le pueden aplicar medidas estadisticas\n",
        "\n",
        "Muestra aleatoria \n",
        "\n",
        "Muestra = (representacion de la poblacion, que se elijen al azar bajo condiciones iguales)\n",
        "\n",
        "Forma de la Muestra: (medida asociada a una muestra). (def.): curva (o funcion continua) que represente la forma de estos datos. \n",
        "\n",
        "VARIABLE ALEATORIA CONTINUA (estas funciones continuas)\n",
        "\n",
        "\n",
        "Una vez teeniendo la forma de la muestra, de acuerdo a ella, vamos a definir variables aleatorias. \n",
        "\n",
        "Representacion Grafica de la Muestra: \n",
        "    boxplots\n",
        "    histogramas\n",
        "    pie\n",
        "    barras\n",
        "    dispersion\n",
        "\n",
        "\n"
      ],
      "metadata": {
        "id": "MxjYlpddEFoL"
      }
    },
    {
      "cell_type": "code",
      "source": [],
      "metadata": {
        "id": "cxGQe4JxG-RO"
      },
      "execution_count": null,
      "outputs": []
    },
    {
      "cell_type": "code",
      "source": [],
      "metadata": {
        "id": "tuOPkbhAGhu0"
      },
      "execution_count": null,
      "outputs": []
    }
  ]
}